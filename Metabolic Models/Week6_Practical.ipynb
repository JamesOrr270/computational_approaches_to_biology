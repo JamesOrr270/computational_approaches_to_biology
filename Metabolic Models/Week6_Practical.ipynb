{
 "cells": [
  {
   "cell_type": "markdown",
   "id": "e7b3be",
   "metadata": {
    "collapsed": false
   },
   "source": [
    "Cobra documentation: https://cobrapy.readthedocs.io/en/latest/index.html\n",
    "\n"
   ]
  },
  {
   "cell_type": "markdown",
   "id": "f259a2",
   "metadata": {
    "collapsed": false
   },
   "source": [
    "In case Cobra doesn't run do the following:\n",
    "\n",
    "* Go to the Files list and open a terminal (`terminal.term`)\n",
    "* Type: `pip3 install --upgrade python-libsbml`\n",
    "* Type: `pip3 install --upgrade sympy`\n",
    "* Type: `pip3 install --upgrade cobra`\n",
    "* Go to Settings and click on `Restart project`\n",
    "\n"
   ]
  },
  {
   "cell_type": "code",
   "execution_count": 3,
   "id": "070df8",
   "metadata": {
    "collapsed": false
   },
   "outputs": [],
   "source": [
    "import cobra\n",
    "import matplotlib.pyplot as plt\n",
    "import random\n",
    "random.seed(42)"
   ]
  },
  {
   "cell_type": "markdown",
   "id": "2e57ce",
   "metadata": {
    "collapsed": false
   },
   "source": [
    "## Exercise: using a metabolic model of <i>Chlamydomonas reinhardtii</i>."
   ]
  },
  {
   "cell_type": "markdown",
   "id": "60bd11",
   "metadata": {
    "collapsed": false
   },
   "source": [
    "- Read the model, which is available in the file \"iRC1080\\-Chapman3.xml\" \\(you can ignore any warning messages\\).\n",
    "\n"
   ]
  },
  {
   "cell_type": "code",
   "execution_count": 4,
   "id": "f72d60",
   "metadata": {
    "collapsed": false
   },
   "outputs": [
    {
     "name": "stderr",
     "output_type": "stream",
     "text": [
      "'' is not a valid SBML 'SId'.\n"
     ]
    },
    {
     "name": "stderr",
     "output_type": "stream",
     "text": [
      "No objective coefficients in model. Unclear what should be optimized\n"
     ]
    }
   ],
   "source": [
    "import cobra\n",
    "chlamyNet = \"iRC1080-Chapman3.xml\"\n",
    "model = cobra.io.read_sbml_model(chlamyNet)"
   ]
  },
  {
   "cell_type": "markdown",
   "id": "bc82dc",
   "metadata": {
    "collapsed": false
   },
   "source": [
    "* Print the number of reactions, metabolites and genes."
   ]
  },
  {
   "cell_type": "code",
   "execution_count": 7,
   "id": "aa9ab1",
   "metadata": {
    "collapsed": false
   },
   "outputs": [
    {
     "name": "stdout",
     "output_type": "stream",
     "text": [
      "The number of reactions: 2191\n",
      "The number of metabolites: 1706\n",
      "The number of genes: 1086\n"
     ]
    }
   ],
   "source": [
    "print(\"The number of reactions:\", len(model.reactions))\n",
    "print(\"The number of metabolites:\", len(model.metabolites))\n",
    "print(\"The number of genes:\", len(model.genes))"
   ]
  },
  {
   "cell_type": "markdown",
   "id": "0d2d74",
   "metadata": {
    "collapsed": false
   },
   "source": [
    "* Find all occurrences of fumarate in the model and print their IDs.\n",
    "* In which cellular compartments is fumarate present?\n",
    "\n"
   ]
  },
  {
   "cell_type": "code",
   "execution_count": 16,
   "id": "907b6f",
   "metadata": {
    "collapsed": false
   },
   "outputs": [
    {
     "name": "stdout",
     "output_type": "stream",
     "text": [
      "fum_c , Fumarate , c\n",
      "fum_h , Fumarate , h\n",
      "fum_m , Fumarate , m\n",
      "c\n"
     ]
    }
   ],
   "source": [
    "for m in model.metabolites:\n",
    "    if \"Fumarate\" in m.name:\n",
    "        print(m.id, \",\", m.name, \",\", m.compartment)"
   ]
  },
  {
   "cell_type": "markdown",
   "id": "7bf153",
   "metadata": {
    "collapsed": false
   },
   "source": [
    "* Print the chemical formula and charge of fumarate."
   ]
  },
  {
   "cell_type": "code",
   "execution_count": 20,
   "id": "10493e",
   "metadata": {
    "collapsed": false
   },
   "outputs": [
    {
     "name": "stdout",
     "output_type": "stream",
     "text": [
      "Chemical Formula: C4H2O4\n",
      "Charge: 0\n"
     ]
    }
   ],
   "source": [
    "fumarate_c = model.metabolites.get_by_id(\"fum_c\")\n",
    "fumarate_h = model.metabolites.get_by_id(\"fum_h\")\n",
    "fumarate_m = model.metabolites.get_by_id(\"fum_m\")\n",
    "\n",
    "print(\"Chemical Formula:\", fumarate_h.formula)\n",
    "print(\"Charge:\", fumarate_h.charge)\n"
   ]
  },
  {
   "cell_type": "markdown",
   "id": "682411",
   "metadata": {
    "collapsed": false
   },
   "source": [
    "* List all reactions containing fumarate."
   ]
  },
  {
   "cell_type": "code",
   "execution_count": 34,
   "id": "028bd5",
   "metadata": {
    "collapsed": false
   },
   "outputs": [
    {
     "name": "stdout",
     "output_type": "stream",
     "text": [
      "ARGSL argininosuccinate lyase argsuc_c <=> arg_DASH_L_c + fum_c Flux: 0.9247425541326856\n",
      "FAA fumarylacetoacetase 4fumacac_c + h2o_c --> acac_c + fum_c + h_c Flux: 0.0\n",
      "AAL_LPAREN_fum_RPAREN_ N6-(1,2-dicarboxyethyl)AMP AMP-lyase (fumarate-forming) dcamp_c --> amp_c + fum_c Flux: 0.3817652896001283\n",
      "SUCFUMthr succinate-fumarate antiport, chloroplast fum_h + succ_c <=> fum_c + succ_h Flux: 0.0\n",
      "SUCFUMtmr Succinate/fumarate antiporter, mitochondrial fum_m + succ_c <=> fum_c + succ_m Flux: -2.3462514225021764\n",
      "AIAL 1-(5'-Phosphoribosyl)-5-amino-4-(N-succinocarboxamide)-imidazole AMP-lyase 25aics_c <=> aicar_c + fum_c Flux: 1.039743578769362\n",
      "SUCDHh succinate dehydrogenase (chloroplast) fad_h + succ_h --> fadh2_h + fum_h Flux: 0.0\n",
      "SUCFUMthr succinate-fumarate antiport, chloroplast fum_h + succ_c <=> fum_c + succ_h Flux: 0.0\n",
      "SUCDH_LPAREN_q8_RPAREN_m succinate dehydrogenase (ubiquinone) q8_m + succ_m <=> fum_m + q8h2_m Flux: -2.989923024832095e-14\n",
      "FUMm fumarate hydratase fum_m + h2o_m <=> mal_DASH_L_m Flux: 2.3462514225021764\n",
      "SUCFUMtmr Succinate/fumarate antiporter, mitochondrial fum_m + succ_c <=> fum_c + succ_m Flux: -2.3462514225021764\n",
      "SUCDHm succinate dehydrogenase Complex II fad_m + succ_m --> fadh2_m + fum_m Flux: 2.989923024832095e-14\n"
     ]
    }
   ],
   "source": [
    "for r in fumarate_c.reactions:\n",
    "    print(r.id, r.name, r.reaction,\"Flux:\",r.flux)\n",
    "    \n",
    "for r in fumarate_h.reactions:\n",
    "    print(r.id, r.name, r.reaction,\"Flux:\",r.flux)\n",
    "    \n",
    "for r in fumarate_m.reactions:\n",
    "    print(r.id, r.name, r.reaction,\"Flux:\",r.flux)"
   ]
  },
  {
   "cell_type": "code",
   "execution_count": null,
   "id": "8d889e",
   "metadata": {
    "collapsed": false,
    "scrolled": true
   },
   "outputs": [],
   "source": []
  },
  {
   "cell_type": "markdown",
   "id": "ee89e9",
   "metadata": {
    "collapsed": false
   },
   "source": [
    "* Set the biomass objective to heterotrophic growth.\n",
    "* Run FBA and print the objective value (biomass production)."
   ]
  },
  {
   "cell_type": "code",
   "execution_count": 24,
   "id": "63196c",
   "metadata": {
    "collapsed": false
   },
   "outputs": [
    {
     "name": "stdout",
     "output_type": "stream",
     "text": [
      "FBA solution: 6.156851475933877\n"
     ]
    }
   ],
   "source": [
    "biomass = model.reactions.get_by_id(\"Biomass_Chlamy_auto\")\n",
    "biomass.objective_coefficient = 1\n",
    "\n",
    "solution = model.optimize()\n",
    "print(\"FBA solution:\", solution.objective_value)"
   ]
  },
  {
   "cell_type": "markdown",
   "id": "58547b",
   "metadata": {
    "collapsed": false
   },
   "source": [
    "* Print the flux of all reactions containing fumarate."
   ]
  },
  {
   "cell_type": "code",
   "execution_count": 38,
   "id": "7a4c9a",
   "metadata": {
    "collapsed": false
   },
   "outputs": [
    {
     "name": "stdout",
     "output_type": "stream",
     "text": [
      "0.9247425541326856\n",
      "0.0\n",
      "0.3817652896001283\n",
      "0.0\n",
      "-2.3462514225021764\n",
      "1.039743578769362\n",
      "0.0\n",
      "0.0\n",
      "-2.989923024832095e-14\n",
      "2.3462514225021764\n",
      "-2.3462514225021764\n",
      "2.989923024832095e-14\n"
     ]
    }
   ],
   "source": [
    "#print(fumarate_c.summary())\n",
    "#print(fumarate_h.summary())\n",
    "#print(fumarate_m.summary())\n",
    "\n",
    "for r in fumarate_c.reactions:\n",
    "    print(r.flux)\n",
    "    \n",
    "for r in fumarate_h.reactions:\n",
    "    print(r.flux)\n",
    "    \n",
    "for r in fumarate_m.reactions:\n",
    "    print(r.flux)"
   ]
  },
  {
   "cell_type": "markdown",
   "id": "034d20",
   "metadata": {
    "collapsed": false
   },
   "source": [
    "* Find the reaction that imports extracellular acetate into the cell."
   ]
  },
  {
   "cell_type": "code",
   "execution_count": 75,
   "id": "2a1dae",
   "metadata": {
    "collapsed": false
   },
   "outputs": [
    {
     "name": "stdout",
     "output_type": "stream",
     "text": [
      "ac_e\n",
      "====\n",
      "Formula: C2H3O2\n",
      "\n",
      "Producing Reactions\n",
      "-------------------\n",
      "Percent Flux Reaction    Definition\n",
      "100.00%   20      ACt ac_e <-- ac_c\n",
      "\n",
      "Consuming Reactions\n",
      "-------------------\n",
      "Percent Flux               Reaction Definition\n",
      "100.00%  -20 EX_ac_LPAREN_e_RPAREN_  ac_e <=> \n"
     ]
    }
   ],
   "source": [
    "acetate = model.metabolites.get_by_id(\"ac_e\")\n",
    "print(acetate.summary())"
   ]
  },
  {
   "cell_type": "markdown",
   "id": "4480cb",
   "metadata": {
    "collapsed": false
   },
   "source": [
    "* Set the acetate import flux to 10.\n",
    "* Run FBA and print the objective value."
   ]
  },
  {
   "cell_type": "code",
   "execution_count": 39,
   "id": "9693e2",
   "metadata": {
    "collapsed": false,
    "scrolled": true
   },
   "outputs": [
    {
     "name": "stdout",
     "output_type": "stream",
     "text": [
      "FBA solution: 6.156851475934288\n"
     ]
    }
   ],
   "source": [
    "model.reactions.get_by_id(\"ACt\").lower_bound = -10\n",
    "model.reactions.get_by_id(\"ACt\").upper_bound = 0\n",
    "\n",
    "solution = model.optimize()\n",
    "print(\"FBA solution:\", solution.objective_value)\n"
   ]
  },
  {
   "cell_type": "markdown",
   "id": "b74d40",
   "metadata": {
    "collapsed": false
   },
   "source": [
    "* Print the flux of all reactions containing fumarate and compare to the previous solution."
   ]
  },
  {
   "cell_type": "code",
   "execution_count": 44,
   "id": "692028",
   "metadata": {
    "collapsed": false
   },
   "outputs": [
    {
     "name": "stdout",
     "output_type": "stream",
     "text": [
      "fum_c\n",
      "=====\n",
      "Formula: C4H2O4\n",
      "\n",
      "Producing Reactions\n",
      "-------------------\n",
      "Percent   Flux               Reaction                        Definition\n",
      " 16.27% 0.3818 AAL_LPAREN_fum_RPAREN_         dcamp_c --> amp_c + fum_c\n",
      " 44.32%   1.04                   AIAL      25aics_c <=> aicar_c + fum_c\n",
      " 39.41% 0.9247                  ARGSL argsuc_c <=> arg_DASH_L_c + fum_c\n",
      "\n",
      "Consuming Reactions\n",
      "-------------------\n",
      "Percent   Flux  Reaction                        Definition\n",
      "100.00% -2.346 SUCFUMtmr fum_m + succ_c <=> fum_c + succ_m\n",
      "fum_h\n",
      "=====\n",
      "Formula: C4H2O4\n",
      "\n",
      "Producing Reactions\n",
      "-------------------\n",
      "Empty DataFrame\n",
      "Columns: [Percent, Flux, Reaction, Definition]\n",
      "Index: []\n",
      "\n",
      "Consuming Reactions\n",
      "-------------------\n",
      "Empty DataFrame\n",
      "Columns: [Percent, Flux, Reaction, Definition]\n",
      "Index: []\n"
     ]
    },
    {
     "name": "stdout",
     "output_type": "stream",
     "text": [
      "fum_m\n",
      "=====\n",
      "Formula: C4H2O4\n",
      "\n",
      "Producing Reactions\n",
      "-------------------\n",
      "Percent  Flux  Reaction                        Definition\n",
      "100.00% 2.346 SUCFUMtmr fum_m + succ_c <=> fum_c + succ_m\n",
      "\n",
      "Consuming Reactions\n",
      "-------------------\n",
      "Percent   Flux Reaction                     Definition\n",
      "100.00% -2.346     FUMm fum_m + h2o_m <=> mal_DASH_L_m\n",
      "0.9247425541326856\n",
      "0.0\n",
      "0.3817652896001283\n",
      "0.0\n",
      "-2.3462514225021764\n",
      "1.039743578769362\n",
      "0.0\n",
      "0.0\n",
      "-2.989923024832095e-14\n",
      "2.3462514225021764\n",
      "-2.3462514225021764\n",
      "2.989923024832095e-14\n"
     ]
    }
   ],
   "source": [
    "print(fumarate_c.summary())\n",
    "print(fumarate_h.summary())\n",
    "print(fumarate_m.summary())\n",
    "\n",
    "for r in fumarate_c.reactions:\n",
    "    print(r.flux)\n",
    "    \n",
    "for r in fumarate_h.reactions:\n",
    "    print(r.flux)\n",
    "    \n",
    "for r in fumarate_m.reactions:\n",
    "    print(r.flux)"
   ]
  },
  {
   "cell_type": "markdown",
   "id": "328c6c",
   "metadata": {
    "collapsed": false
   },
   "source": [
    "* Run a series of FBA simulations with the acetate uptake flux ranging from 0 to 20.\n",
    "* Plot a line graph showing how the flux of the argininosuccinate lyase reaction varies depending on the acetate uptake."
   ]
  },
  {
   "cell_type": "code",
   "execution_count": 43,
   "id": "493556",
   "metadata": {
    "collapsed": false
   },
   "outputs": [],
   "source": [
    "\n",
    "        "
   ]
  },
  {
   "cell_type": "code",
   "execution_count": 86,
   "id": "875129",
   "metadata": {
    "collapsed": false
   },
   "outputs": [
    {
     "name": "stdout",
     "output_type": "stream",
     "text": [
      "0.0\n",
      "0.0\n",
      "[0.0]\n",
      "0.0\n",
      "0.0\n",
      "[0.0, 0.0]\n",
      "0.0\n",
      "0.0\n",
      "[0.0, 0.0, 0.0]\n",
      "0.0\n",
      "0.0\n",
      "[0.0, 0.0, 0.0, 0.0]\n",
      "0.0\n",
      "0.0\n",
      "[0.0, 0.0, 0.0, 0.0, 0.0]\n",
      "0.0\n",
      "0.0\n",
      "[0.0, 0.0, 0.0, 0.0, 0.0, 0.0]\n",
      "0.0\n",
      "0.0\n",
      "[0.0, 0.0, 0.0, 0.0, 0.0, 0.0, 0.0]\n",
      "0.0\n",
      "0.0\n",
      "[0.0, 0.0, 0.0, 0.0, 0.0, 0.0, 0.0, 0.0]\n",
      "0.0\n",
      "0.0\n",
      "[0.0, 0.0, 0.0, 0.0, 0.0, 0.0, 0.0, 0.0, 0.0]\n"
     ]
    },
    {
     "name": "stdout",
     "output_type": "stream",
     "text": [
      "0.0\n",
      "0.0\n",
      "[0.0, 0.0, 0.0, 0.0, 0.0, 0.0, 0.0, 0.0, 0.0, 0.0]\n",
      "0.0\n",
      "0.0\n",
      "[0.0, 0.0, 0.0, 0.0, 0.0, 0.0, 0.0, 0.0, 0.0, 0.0, 0.0]\n",
      "0.0\n",
      "0.0\n",
      "[0.0, 0.0, 0.0, 0.0, 0.0, 0.0, 0.0, 0.0, 0.0, 0.0, 0.0, 0.0]\n",
      "0.0\n",
      "0.0\n",
      "[0.0, 0.0, 0.0, 0.0, 0.0, 0.0, 0.0, 0.0, 0.0, 0.0, 0.0, 0.0, 0.0]\n",
      "0.0\n",
      "0.0\n",
      "[0.0, 0.0, 0.0, 0.0, 0.0, 0.0, 0.0, 0.0, 0.0, 0.0, 0.0, 0.0, 0.0, 0.0]\n",
      "0.0\n",
      "0.0\n",
      "[0.0, 0.0, 0.0, 0.0, 0.0, 0.0, 0.0, 0.0, 0.0, 0.0, 0.0, 0.0, 0.0, 0.0, 0.0]\n",
      "0.0\n",
      "0.0\n",
      "[0.0, 0.0, 0.0, 0.0, 0.0, 0.0, 0.0, 0.0, 0.0, 0.0, 0.0, 0.0, 0.0, 0.0, 0.0, 0.0]\n",
      "0.0\n",
      "0.0\n",
      "[0.0, 0.0, 0.0, 0.0, 0.0, 0.0, 0.0, 0.0, 0.0, 0.0, 0.0, 0.0, 0.0, 0.0, 0.0, 0.0, 0.0]\n"
     ]
    },
    {
     "name": "stdout",
     "output_type": "stream",
     "text": [
      "0.0\n",
      "0.0\n",
      "[0.0, 0.0, 0.0, 0.0, 0.0, 0.0, 0.0, 0.0, 0.0, 0.0, 0.0, 0.0, 0.0, 0.0, 0.0, 0.0, 0.0, 0.0]\n",
      "0.0\n",
      "0.0\n",
      "[0.0, 0.0, 0.0, 0.0, 0.0, 0.0, 0.0, 0.0, 0.0, 0.0, 0.0, 0.0, 0.0, 0.0, 0.0, 0.0, 0.0, 0.0, 0.0]\n",
      "0.0\n",
      "0.0\n",
      "[0.0, 0.0, 0.0, 0.0, 0.0, 0.0, 0.0, 0.0, 0.0, 0.0, 0.0, 0.0, 0.0, 0.0, 0.0, 0.0, 0.0, 0.0, 0.0, 0.0]\n",
      "0.0\n",
      "0.0\n",
      "[0.0, 0.0, 0.0, 0.0, 0.0, 0.0, 0.0, 0.0, 0.0, 0.0, 0.0, 0.0, 0.0, 0.0, 0.0, 0.0, 0.0, 0.0, 0.0, 0.0, 0.0]\n"
     ]
    },
    {
     "data": {
      "image/png": "[encoded data removed]",
      "text/plain": [
       "<Figure size 864x504 with 1 Axes>"
      ]
     },
     "metadata": {},
     "output_type": "display_data"
    }
   ],
   "source": [
    "import matplotlib.pyplot as plt\n",
    "\n",
    "exac = model.reactions.get_by_id(\"EX_ac_LPAREN_e_RPAREN_\")\n",
    "\n",
    "lyase_flux = list()\n",
    "\n",
    "for i in range(0,21):\n",
    "    exac.bounds=(-i,-i)\n",
    "    solution = model.optimize()\n",
    "    print(solution.fluxes[\"ARGSL\"])\n",
    "    print(solution.objective_value)\n",
    "    lyase_flux.append(solution.fluxes[\"ARGSL\"])\n",
    "    print(lyase_flux)\n",
    "\n",
    "\n",
    "x = [0,1,2,3,4,5,6,7,8,9,10,11,12,13,14,15,16,17,18,19,20]\n",
    "\n",
    "plt.plot(x,lyase_flux)\n",
    "\n",
    "plt.xlabel(\"Acetate uptake flux\")\n",
    "plt.ylabel(\"Argininosuccinate lyase flux\")\n",
    "\n",
    "plt.show()\n",
    "\n",
    "\n"
   ]
  }
 ],
 "metadata": {
  "kernelspec": {
   "argv": [
    "/usr/bin/python3",
    "-m",
    "ipykernel",
    "--HistoryManager.enabled=False",
    "--matplotlib=inline",
    "-c",
    "%config InlineBackend.figure_formats = set(['retina'])\nimport matplotlib; matplotlib.rcParams['figure.figsize'] = (12, 7)",
    "-f",
    "{connection_file}"
   ],
   "display_name": "Python 3 (system-wide)",
   "env": {},
   "language": "python",
   "metadata": {
    "cocalc": {
     "description": "Python 3 programming language",
     "priority": 100,
     "url": "https://www.python.org/"
    }
   },
   "name": "python3",
   "resource_dir": "/ext/jupyter/kernels/python3"
  },
  "language_info": {
   "codemirror_mode": {
    "name": "ipython",
    "version": 3
   },
   "file_extension": ".py",
   "mimetype": "text/x-python",
   "name": "python",
   "nbconvert_exporter": "python",
   "pygments_lexer": "ipython3",
   "version": "3.12.1"
  }
 },
 "nbformat": 4,
 "nbformat_minor": 4
}

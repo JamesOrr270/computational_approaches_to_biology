{
 "cells": [
  {
   "cell_type": "markdown",
   "id": "6cd20e",
   "metadata": {
    "collapsed": false
   },
   "source": [
    "NetworkX documentation: https://networkx.org/documentation/stable/index.html"
   ]
  },
  {
   "cell_type": "markdown",
   "id": "6dcf9f",
   "metadata": {
    "collapsed": false
   },
   "source": [
    "In case NetworkX isn't running do the following:\n",
    "* Go to the Files list and open a terminal (`terminal.term`)\n",
    "* Type: `pip3 install --upgrade networkx`\n",
    "* Go to Settings and click on `Restart project`"
   ]
  },
  {
   "cell_type": "code",
   "execution_count": 6,
   "id": "a43536",
   "metadata": {
    "collapsed": false
   },
   "outputs": [
   ],
   "source": [
    "import networkx as nx\n",
    "import matplotlib.pyplot as plt\n",
    "import numpy as np"
   ]
  },
  {
   "cell_type": "markdown",
   "id": "f80524",
   "metadata": {
    "collapsed": false
   },
   "source": [
    "## Exercise 1  \n",
    "This exercise is aimed at practising the fundamental NetworkX functions for creating a graph, visualing it and accessing some node properties.  \n",
    "* Create a network consisting of 4 nodes A, B, C, D, and edges connecting A-B, A-C, B-C, C-D.  \n",
    "* Draw the network."
   ]
  },
  {
   "cell_type": "code",
   "execution_count": 7,
   "id": "3cd63d",
   "metadata": {
    "collapsed": false
   },
   "outputs": [
    {
     "data": {
      "image/png": "[encoded data removed]",
      "text/plain": "<Figure size 864x504 with 1 Axes>"
     },
     "metadata": {
      "image/png": {
       "height": 394,
       "width": 684
      }
     }
    }
   ],
   "source": [
    "G = nx.Graph()  \n",
    "G.add_nodes_from(['A', 'B', 'C', 'D'])  \n",
    "G.add_edges_from([('A', 'B'), ('A', 'C'), ('B', 'C'), ('C', 'D')])\n",
    "nx.draw_networkx(G)\n"
   ]
  },
  {
   "cell_type": "markdown",
   "id": "d753ab",
   "metadata": {
    "collapsed": false
   },
   "source": [
    "* Print the list of nodes.  \n",
    "* Print the number of nodes.  "
   ]
  },
  {
   "cell_type": "code",
   "execution_count": 8,
   "id": "443092",
   "metadata": {
    "collapsed": false
   },
   "outputs": [
    {
     "name": "stdout",
     "output_type": "stream",
     "text": [
      "A\n",
      "B\n",
      "C\n",
      "D\n",
      "Number of Nodes:  4\n"
     ]
    }
   ],
   "source": [
    "for n in G:\n",
    "    print(n)\n",
    "print(\"Number of Nodes: \", nx.number_of_nodes(G))\n",
    "\n",
    "\n"
   ]
  },
  {
   "cell_type": "code",
   "execution_count": 9,
   "id": "81957d",
   "metadata": {
    "collapsed": false
   },
   "outputs": [
    {
     "name": "stdout",
     "output_type": "stream",
     "text": [
      "Number of nodes:  4\n",
      "List of nodes:  ['A', 'B', 'C', 'D']\n",
      "Number of Edges:  4\n",
      "List of Edges:  [('A', 'B'), ('A', 'C'), ('B', 'C'), ('C', 'D')]\n"
     ]
    }
   ],
   "source": [
    "#Can also do it like this:\n",
    "\n",
    "print(\"Number of nodes: \",G.number_of_nodes())\n",
    "print(\"List of nodes: \", list(G.nodes))\n",
    "print(\"Number of Edges: \", G.number_of_edges())\n",
    "print(\"List of Edges: \", list(G.edges))"
   ]
  },
  {
   "cell_type": "markdown",
   "id": "168cdf",
   "metadata": {
    "collapsed": false
   },
   "source": [
    "* Print the degree of node C"
   ]
  },
  {
   "cell_type": "code",
   "execution_count": 11,
   "id": "2f1669",
   "metadata": {
    "collapsed": false
   },
   "outputs": [
    {
     "data": {
      "text/plain": [
       "3"
      ]
     },
     "execution_count": 11,
     "metadata": {
     },
     "output_type": "execute_result"
    }
   ],
   "source": [
    "nx.degree(G)['C']"
   ]
  },
  {
   "cell_type": "code",
   "execution_count": 11,
   "id": "cc5e3a",
   "metadata": {
    "collapsed": false
   },
   "outputs": [
    {
     "name": "stdout",
     "output_type": "stream",
     "text": [
      "Degree of A = 2\n",
      "Degree of B = 2\n",
      "Degree of C = 3\n",
      "Degree of D = 1\n"
     ]
    }
   ],
   "source": [
    "# Can also print like this\n",
    "\n",
    "for node in G.nodes:\n",
    "    print('Degree of', node,\"=\", G.degree(node))"
   ]
  },
  {
   "cell_type": "markdown",
   "id": "61c7de",
   "metadata": {
    "collapsed": false
   },
   "source": [
    "## Exercise 2\n",
    "This exercise is aimed at practising more advanced functions to compute and visualise the topological properties of a network.\n",
    "* Create a random network containing 50 nodes.\n",
    "* Draw the network."
   ]
  },
  {
   "cell_type": "code",
   "execution_count": 12,
   "id": "f93574",
   "metadata": {
    "collapsed": false
   },
   "outputs": [
    {
     "data": {
      "image/png": "[encoded data removed]",
      "text/plain": "<Figure size 864x504 with 1 Axes>"
     },
     "metadata": {
      "image/png": {
       "height": 394,
       "width": 684
      }
     }
    }
   ],
   "source": [
    "F = nx.erdos_renyi_graph(50,0.2)\n",
    "nx.draw_networkx(F)"
   ]
  },
  {
   "cell_type": "markdown",
   "id": "7d94de",
   "metadata": {
    "collapsed": false
   },
   "source": [
    "* Print the degrees of all nodes.  \n",
    "* Find the minimum and maximum degree in the network."
   ]
  },
  {
   "cell_type": "code",
   "execution_count": 21,
   "id": "cd6d6a",
   "metadata": {
    "collapsed": false,
    "scrolled": true
   },
   "outputs": [
    {
     "name": "stdout",
     "output_type": "stream",
     "text": [
      "Degree of all nodes:  [(0, 9), (1, 12), (2, 11), (3, 13), (4, 7), (5, 14), (6, 12), (7, 13), (8, 13), (9, 10), (10, 10), (11, 8), (12, 15), (13, 11), (14, 13), (15, 8), (16, 10), (17, 13), (18, 10), (19, 13), (20, 10), (21, 13), (22, 10), (23, 13), (24, 7), (25, 8), (26, 9), (27, 9), (28, 8), (29, 8), (30, 8), (31, 11), (32, 7), (33, 13), (34, 10), (35, 4), (36, 10), (37, 10), (38, 7), (39, 14), (40, 12), (41, 12), (42, 12), (43, 13), (44, 13), (45, 15), (46, 9), (47, 8), (48, 11), (49, 13)]\n",
      "Maximum Degree: 15 at position 12\n",
      "Minimum Degree: 4 at position 35\n"
     ]
    }
   ],
   "source": [
    "print(\"Degree of all nodes: \",nx.degree(F))\n",
    "\n",
    "for n in F:\n",
    "    if nx.degree(F)[n]>max_degree:\n",
    "        max_degree = nx.degree(F)[n]\n",
    "        max_degree_position = n\n",
    "    if nx.degree(F)[n]<min_degree:\n",
    "        min_degree = nx.degree(F)[n]\n",
    "        min_degree_position = n\n",
    "        \n",
    "print(\"Maximum Degree:\",max_degree,\"at position\",max_degree_position)\n",
    "print(\"Minimum Degree:\",min_degree, \"at position\",min_degree_position)\n",
    "\n"
   ]
  },
  {
   "cell_type": "code",
   "execution_count": 28,
   "id": "891d6f",
   "metadata": {
    "collapsed": false
   },
   "outputs": [
    {
     "name": "stdout",
     "output_type": "stream",
     "text": [
      "List of Nodes:  [9, 12, 11, 13, 7, 14, 12, 13, 13, 10, 10, 8, 15, 11, 13, 8, 10, 13, 10, 13, 10, 13, 10, 13, 7, 8, 9, 9, 8, 8, 8, 11, 7, 13, 10, 4, 10, 10, 7, 14, 12, 12, 12, 13, 13, 15, 9, 8, 11, 13]\n",
      "Maximum Degree: 15\n",
      "Minimum Degree: 4\n"
     ]
    }
   ],
   "source": [
    "#Can also do it so that you add all to a list and then manipulate the list\n",
    "\n",
    "degree_list = []\n",
    "\n",
    "for n in F:\n",
    "    degree_list.append(nx.degree(F)[n])\n",
    "    \n",
    "print(\"List of Nodes: \",degree_list)\n",
    "print(\"Maximum Degree:\", max(degree_list))\n",
    "print(\"Minimum Degree:\",min(degree_list))\n"
   ]
  },
  {
   "cell_type": "markdown",
   "id": "f7a848",
   "metadata": {
    "collapsed": false
   },
   "source": [
    "* Calculate the average degree of the network."
   ]
  },
  {
   "cell_type": "code",
   "execution_count": 24,
   "id": "1fead4",
   "metadata": {
    "collapsed": false
   },
   "outputs": [
    {
     "name": "stdout",
     "output_type": "stream",
     "text": [
      "Average Degree: 10.64\n"
     ]
    }
   ],
   "source": [
    "total_degree = 0\n",
    "for n in F:\n",
    "    total_degree += nx.degree(F)[n] \n",
    "   \n",
    "print(\"Average Degree:\",total_degree/nx.number_of_nodes(F))"
   ]
  },
  {
   "cell_type": "code",
   "execution_count": 0,
   "id": "2e31b1",
   "metadata": {
    "collapsed": false
   },
   "outputs": [
   ],
   "source": [
    "#A more simplified version would be:\n",
    "print(\"Average degree: \", sum)"
   ]
  },
  {
   "cell_type": "markdown",
   "id": "71b3a2",
   "metadata": {
    "collapsed": false
   },
   "source": [
    "* Plot the degree distribution of the network"
   ]
  },
  {
   "cell_type": "code",
   "execution_count": 25,
   "id": "9123f6",
   "metadata": {
    "collapsed": false
   },
   "outputs": [
    {
     "data": {
      "text/plain": [
       "[<matplotlib.lines.Line2D at 0x7f97b22cbd90>]"
      ]
     },
     "execution_count": 25,
     "metadata": {
     },
     "output_type": "execute_result"
    },
    {
     "data": {
      "image/png": "[encoded data removed]",
      "text/plain": "<Figure size 864x504 with 1 Axes>"
     },
     "metadata": {
      "image/png": {
       "height": 411,
       "width": 703
      },
      "needs_background": "light"
     }
    }
   ],
   "source": [
    "#Could also try and add axis titles\n",
    "\n",
    "plt.plot(nx.degree_histogram(F))"
   ]
  },
  {
   "cell_type": "markdown",
   "id": "cd1d32",
   "metadata": {
    "collapsed": false
   },
   "source": [
    "* List the degree and the betweenness centrality of each node."
   ]
  },
  {
   "cell_type": "code",
   "execution_count": 32,
   "id": "5c3c60",
   "metadata": {
    "collapsed": false
   },
   "outputs": [
    {
     "name": "stdout",
     "output_type": "stream",
     "text": [
      "0 - Degree: 9 Closeness of centrality: 0.532608695652174\n",
      "1 - Degree: 12 Closeness of centrality: 0.550561797752809\n",
      "2 - Degree: 11 Closeness of centrality: 0.5444444444444444\n",
      "3 - Degree: 13 Closeness of centrality: 0.5697674418604651\n",
      "4 - Degree: 7 Closeness of centrality: 0.49\n",
      "5 - Degree: 14 Closeness of centrality: 0.5697674418604651\n",
      "6 - Degree: 12 Closeness of centrality: 0.5632183908045977\n",
      "7 - Degree: 13 Closeness of centrality: 0.5697674418604651\n",
      "8 - Degree: 13 Closeness of centrality: 0.5632183908045977\n",
      "9 - Degree: 10 Closeness of centrality: 0.532608695652174\n",
      "10 - Degree: 10 Closeness of centrality: 0.532608695652174\n",
      "11 - Degree: 8 Closeness of centrality: 0.5157894736842106\n",
      "12 - Degree: 15 Closeness of centrality: 0.5903614457831325\n",
      "13 - Degree: 11 Closeness of centrality: 0.5384615384615384\n",
      "14 - Degree: 13 Closeness of centrality: 0.5632183908045977\n",
      "15 - Degree: 8 Closeness of centrality: 0.5104166666666666\n",
      "16 - Degree: 10 Closeness of centrality: 0.5212765957446809\n",
      "17 - Degree: 13 Closeness of centrality: 0.5632183908045977\n",
      "18 - Degree: 10 Closeness of centrality: 0.532608695652174\n",
      "19 - Degree: 13 Closeness of centrality: 0.5632183908045977\n",
      "20 - Degree: 10 Closeness of centrality: 0.5384615384615384\n",
      "21 - Degree: 13 Closeness of centrality: 0.5697674418604651\n",
      "22 - Degree: 10 Closeness of centrality: 0.5212765957446809\n",
      "23 - Degree: 13 Closeness of centrality: 0.5697674418604651\n",
      "24 - Degree: 7 Closeness of centrality: 0.48514851485148514\n",
      "25 - Degree: 8 Closeness of centrality: 0.5268817204301075\n",
      "26 - Degree: 9 Closeness of centrality: 0.532608695652174\n",
      "27 - Degree: 9 Closeness of centrality: 0.532608695652174\n",
      "28 - Degree: 8 Closeness of centrality: 0.5051546391752577\n",
      "29 - Degree: 8 Closeness of centrality: 0.5051546391752577\n",
      "30 - Degree: 8 Closeness of centrality: 0.5104166666666666\n",
      "31 - Degree: 11 Closeness of centrality: 0.550561797752809\n",
      "32 - Degree: 7 Closeness of centrality: 0.5\n",
      "33 - Degree: 13 Closeness of centrality: 0.5764705882352941\n",
      "34 - Degree: 10 Closeness of centrality: 0.5268817204301075\n",
      "35 - Degree: 4 Closeness of centrality: 0.44144144144144143\n",
      "36 - Degree: 10 Closeness of centrality: 0.5268817204301075\n",
      "37 - Degree: 10 Closeness of centrality: 0.550561797752809\n",
      "38 - Degree: 7 Closeness of centrality: 0.48514851485148514\n",
      "39 - Degree: 14 Closeness of centrality: 0.5764705882352941\n",
      "40 - Degree: 12 Closeness of centrality: 0.5632183908045977\n",
      "41 - Degree: 12 Closeness of centrality: 0.5632183908045977\n",
      "42 - Degree: 12 Closeness of centrality: 0.5568181818181818\n",
      "43 - Degree: 13 Closeness of centrality: 0.5632183908045977\n",
      "44 - Degree: 13 Closeness of centrality: 0.5697674418604651\n",
      "45 - Degree: 15 Closeness of centrality: 0.5903614457831325\n",
      "46 - Degree: 9 Closeness of centrality: 0.5104166666666666\n",
      "47 - Degree: 8 Closeness of centrality: 0.5157894736842106\n",
      "48 - Degree: 11 Closeness of centrality: 0.5568181818181818\n",
      "49 - Degree: 13 Closeness of centrality: 0.5764705882352941\n"
     ]
    }
   ],
   "source": [
    "for n in F:\n",
    "    print(n,\"- Degree:\",nx.degree(F)[n],\"Closeness of centrality:\",nx.closeness_centrality(F)[n])"
   ]
  },
  {
   "cell_type": "markdown",
   "id": "4a8627",
   "metadata": {
    "collapsed": false
   },
   "source": [
    "* Using the `matplotlib.pyplot.scatter` function (https://matplotlib.org/stable/gallery/shapes_and_collections/scatter.html#), draw a scatterplot where the degree of each node is shown along the horizontal axis and its betweenness along the vertical axis.  "
   ]
  },
  {
   "cell_type": "code",
   "execution_count": 54,
   "id": "864ed2",
   "metadata": {
    "collapsed": false
   },
   "outputs": [
    {
     "name": "stdout",
     "output_type": "stream",
     "text": [
      "Graph with 50 nodes and 231 edges\n"
     ]
    },
    {
     "name": "stdout",
     "output_type": "stream",
     "text": [
      "50\n",
      "50\n"
     ]
    },
    {
     "data": {
      "image/png": "[encoded data removed]",
      "text/plain": "<Figure size 864x504 with 1 Axes>"
     },
     "metadata": {
      "image/png": {
       "height": 411,
       "width": 713
      },
      "needs_background": "light"
     }
    }
   ],
   "source": [
    "N = nx.number_of_nodes(F)\n",
    "\n",
    "print(F)\n",
    "\n",
    "betweenness_centrality_list = []\n",
    "\n",
    "for node in F.nodes:\n",
    "    betweenness_centrality_list.append(nx.betweenness_centrality(F)[node])\n",
    "\n",
    "x = degree_list\n",
    "y = betweenness_centrality_list\n",
    "\n",
    "\n",
    "print(len(x))\n",
    "print(len(y))\n",
    "\n",
    "plt.scatter(x, y)\n",
    "plt.show()\n",
    "\n"
   ]
  },
  {
   "cell_type": "code",
   "execution_count": 0,
   "id": "3e0702",
   "metadata": {
    "collapsed": false
   },
   "outputs": [
   ],
   "source": [
   ]
  },
  {
   "cell_type": "markdown",
   "id": "fb1bfb",
   "metadata": {
    "collapsed": false
   },
   "source": [
    "## Exercise 3\n",
    "This exercise is aimed at reading and analysing a network from a pre-existing dataset. The file `cellcycle_proteins.txt` contains a list of interacting proteins implicated in the mitotic cell cycle. Each line represents a pair of proteins connected by an edge.\n",
    "* Create a network from this list of interactions.  \n",
    "* Draw the network."
   ]
  },
  {
   "cell_type": "code",
   "execution_count": 83,
   "id": "b0e365",
   "metadata": {
    "collapsed": false
   },
   "outputs": [
    {
     "ename": "AttributeError",
     "evalue": "'list' object has no attribute 'strip'",
     "output_type": "error",
     "traceback": [
      "\u001b[0;31m---------------------------------------------------------------------------\u001b[0m",
      "\u001b[0;31mAttributeError\u001b[0m                            Traceback (most recent call last)",
      "\u001b[0;32m/tmp/ipykernel_301/1604849405.py\u001b[0m in \u001b[0;36m<cell line: 8>\u001b[0;34m()\u001b[0m\n\u001b[1;32m      7\u001b[0m \u001b[0;34m\u001b[0m\u001b[0m\n\u001b[1;32m      8\u001b[0m \u001b[0;32mfor\u001b[0m \u001b[0mline\u001b[0m \u001b[0;32min\u001b[0m \u001b[0mproteins_content\u001b[0m\u001b[0;34m:\u001b[0m\u001b[0;34m\u001b[0m\u001b[0;34m\u001b[0m\u001b[0m\n\u001b[0;32m----> 9\u001b[0;31m     \u001b[0mprotein1\u001b[0m\u001b[0;34m,\u001b[0m \u001b[0mprotein2\u001b[0m \u001b[0;34m=\u001b[0m \u001b[0mline\u001b[0m\u001b[0;34m.\u001b[0m\u001b[0msplit\u001b[0m\u001b[0;34m(\u001b[0m\u001b[0;34m)\u001b[0m\u001b[0;34m.\u001b[0m\u001b[0mstrip\u001b[0m\u001b[0;34m(\u001b[0m\u001b[0;34m)\u001b[0m\u001b[0;34m\u001b[0m\u001b[0;34m\u001b[0m\u001b[0m\n\u001b[0m\u001b[1;32m     10\u001b[0m     \u001b[0mH\u001b[0m\u001b[0;34m.\u001b[0m\u001b[0madd_edge\u001b[0m\u001b[0;34m(\u001b[0m\u001b[0mprotein1\u001b[0m\u001b[0;34m,\u001b[0m\u001b[0mprotein2\u001b[0m\u001b[0;34m)\u001b[0m\u001b[0;34m\u001b[0m\u001b[0;34m\u001b[0m\u001b[0m\n\u001b[1;32m     11\u001b[0m \u001b[0;34m\u001b[0m\u001b[0m\n",
      "\u001b[0;31mAttributeError\u001b[0m: 'list' object has no attribute 'strip'"
     ]
    }
   ],
   "source": [
    "with open(\"cellcycle_proteins.txt\", \"r\") as cellcycle_proteins:\n",
    "   \n",
    "    proteins_content = cellcycle_proteins.readlines()\n",
    "  \n",
    "#print(content)\n",
    "H = nx.Graph()\n",
    "\n",
    "for line in proteins_content:\n",
    "    protein1, protein2 = line.split().strip()\n",
    "    H.add_edge(protein1,protein2)\n",
    "    \n",
    "nx.draw_networkx(H)\n",
    "    \n",
    "\n",
    "    \n"
   ]
  },
  {
   "cell_type": "code",
   "execution_count": 14,
   "id": "82c816",
   "metadata": {
    "collapsed": false
   },
   "outputs": [
    {
     "data": {
      "image/png": "[encoded data removed]",
      "text/plain": "<Figure size 864x504 with 1 Axes>"
     },
     "metadata": {
      "image/png": {
       "height": 394,
       "width": 684
      }
     }
    }
   ],
   "source": [
    "#Far more simplified version\n",
    "\n",
    "G=nx.read_edgelist(\"cellcycle_proteins.txt\")\n",
    "nx.draw_networkx(G)"
   ]
  },
  {
   "cell_type": "code",
   "execution_count": 84,
   "id": "a62b10",
   "metadata": {
    "collapsed": false
   },
   "outputs": [
    {
     "data": {
      "image/png": "[encoded data removed]",
      "text/plain": "<Figure size 864x504 with 1 Axes>"
     },
     "metadata": {
      "image/png": {
       "height": 394,
       "width": 683
      }
     }
    }
   ],
   "source": [
    "\n",
    "with open(\"cellcycle_proteins.txt\", \"r\") as file:\n",
    "    lines = file.readlines()\n",
    "    \n",
    "H = nx.Graph()\n",
    "\n",
    "for line in lines:\n",
    "    protein1, protein2 = line.strip().split() \n",
    "    H.add_edge(protein1, protein2)\n",
    "\n",
    "\n",
    "nx.draw_networkx(H)"
   ]
  },
  {
   "cell_type": "markdown",
   "id": "bcf281",
   "metadata": {
    "collapsed": false
   },
   "source": [
    "* Plot the degree distribution of the network."
   ]
  },
  {
   "cell_type": "code",
   "execution_count": 85,
   "id": "b217cd",
   "metadata": {
    "collapsed": false
   },
   "outputs": [
    {
     "data": {
      "text/plain": [
       "[<matplotlib.lines.Line2D at 0x7f97b1f16e90>]"
      ]
     },
     "execution_count": 85,
     "metadata": {
     },
     "output_type": "execute_result"
    },
    {
     "data": {
      "image/png": "[encoded data removed]",
      "text/plain": "<Figure size 864x504 with 1 Axes>"
     },
     "metadata": {
      "image/png": {
       "height": 411,
       "width": 703
      },
      "needs_background": "light"
     }
    }
   ],
   "source": [
    "plt.plot(nx.degree_histogram(H))"
   ]
  },
  {
   "cell_type": "markdown",
   "id": "65025a",
   "metadata": {
    "collapsed": false
   },
   "source": [
    "* List the degree and the betweenness centrality of each node."
   ]
  },
  {
   "cell_type": "code",
   "execution_count": 88,
   "id": "c831a9",
   "metadata": {
    "collapsed": false
   },
   "outputs": [
    {
     "name": "stdout",
     "output_type": "stream",
     "text": [
      "For ESR1 the degree is 11 and the betweeness is 0.42857142857142855\n",
      "For MYO1B the degree is 1 and the betweeness is 0.0\n",
      "For BLCAP the degree is 1 and the betweeness is 0.0\n",
      "For TMEM254 the degree is 1 and the betweeness is 0.0\n",
      "For RAP2C the degree is 1 and the betweeness is 0.0\n",
      "For ZNF398 the degree is 1 and the betweeness is 0.0\n",
      "For ARSB the degree is 1 and the betweeness is 0.0\n",
      "For KIF1A the degree is 1 and the betweeness is 0.0\n",
      "For MYH14 the degree is 1 and the betweeness is 0.0\n",
      "For FHL2 the degree is 3 and the betweeness is 0.007936507936507936\n",
      "For SMAD3 the degree is 11 and the betweeness is 0.41904761904761906\n",
      "For TOP2A the degree is 2 and the betweeness is 0.24126984126984127\n",
      "For ATF3 the degree is 2 and the betweeness is 0.0\n",
      "For ST6GALNAC2 the degree is 1 and the betweeness is 0.0\n",
      "For ZNF329 the degree is 1 and the betweeness is 0.0\n",
      "For S100A4 the degree is 1 and the betweeness is 0.0\n",
      "For SQRDL the degree is 1 and the betweeness is 0.0\n",
      "For CFDP1 the degree is 1 and the betweeness is 0.0\n",
      "For HMGA2 the degree is 2 and the betweeness is 0.24126984126984127\n",
      "For LEMD3 the degree is 1 and the betweeness is 0.0\n",
      "For ZDHHC4 the degree is 1 and the betweeness is 0.0\n",
      "For CDK1 the degree is 5 and the betweeness is 0.5444444444444444\n",
      "For CEP55 the degree is 1 and the betweeness is 0.0\n",
      "For MCM4 the degree is 7 and the betweeness is 0.49523809523809526\n",
      "For CDKN3 the degree is 1 and the betweeness is 0.0\n",
      "For MCM8 the degree is 1 and the betweeness is 0.0\n",
      "For CLUH the degree is 1 and the betweeness is 0.0\n",
      "For DBF4 the degree is 2 and the betweeness is 0.06428571428571428\n",
      "For MMS22L the degree is 2 and the betweeness is 0.06428571428571428\n",
      "For L3MBTL1 the degree is 2 and the betweeness is 0.06428571428571428\n",
      "For HAUS1 the degree is 2 and the betweeness is 0.06428571428571428\n",
      "For MCM3 the degree is 5 and the betweeness is 0.2507936507936508\n",
      "For SNCG the degree is 3 and the betweeness is 0.20793650793650795\n",
      "For SNRPN the degree is 1 and the betweeness is 0.0\n",
      "For BUB1B the degree is 3 and the betweeness is 0.10952380952380952\n",
      "For ZWINT the degree is 1 and the betweeness is 0.0\n",
      "For PNMA2 the degree is 1 and the betweeness is 0.0\n"
     ]
    }
   ],
   "source": [
    "degree_list = []\n",
    "betweeness_list = []\n",
    "\n",
    "for i in H:\n",
    "    print(\"For\", i, \"the degree is\",nx.degree(H)[i],\"and the betweeness is\",nx.betweenness_centrality(G)[i])\n",
    "    "
   ]
  },
  {
   "cell_type": "markdown",
   "id": "755008",
   "metadata": {
    "collapsed": false
   },
   "source": [
    "* Draw a scatterplot where the degree of each node is shown along the horizontal axis and its betweenness along the vertical axis.*  \n",
    "* Compare this plot with that obtained in Exercise 2."
   ]
  },
  {
   "cell_type": "code",
   "execution_count": 101,
   "id": "ed2604",
   "metadata": {
    "collapsed": false
   },
   "outputs": [
    {
     "name": "stdout",
     "output_type": "stream",
     "text": [
      "11 0.42857142857142855\n",
      "1 0.0\n",
      "1 0.0\n",
      "1 0.0\n",
      "1 0.0\n",
      "1 0.0\n",
      "1 0.0\n",
      "1 0.0\n",
      "1 0.0\n",
      "3 0.007936507936507936\n",
      "11 0.41904761904761906\n",
      "2 0.24126984126984127\n",
      "2 0.0\n",
      "1 0.0\n",
      "1 0.0\n",
      "1 0.0\n",
      "1 0.0\n",
      "1 0.0\n",
      "2 0.24126984126984127\n",
      "1 0.0\n",
      "1 0.0\n",
      "5 0.5444444444444444\n",
      "1 0.0\n",
      "7 0.49523809523809526\n",
      "1 0.0\n",
      "1 0.0\n",
      "1 0.0\n",
      "2 0.06428571428571428\n",
      "2 0.06428571428571428\n",
      "2 0.06428571428571428\n",
      "2 0.06428571428571428\n",
      "5 0.2507936507936508\n",
      "3 0.20793650793650795\n",
      "1 0.0\n",
      "3 0.10952380952380952\n",
      "1 0.0\n",
      "1 0.0\n",
      "Degree:  37\n",
      "betweeness:  37\n"
     ]
    },
    {
     "data": {
      "image/png": "[encoded data removed]",
      "text/plain": "<Figure size 864x504 with 1 Axes>"
     },
     "metadata": {
      "image/png": {
       "height": 411,
       "width": 706
      },
      "needs_background": "light"
     }
    }
   ],
   "source": [
    "degree_list = []\n",
    "betweenness_list = []\n",
    "\n",
    "for i in H.nodes():\n",
    "    degree_list.append(nx.degree(H)[i])\n",
    "    betweenness_list.append(nx.betweenness_centrality(H)[i])\n",
    "       \n",
    "print(\"Degree: \",len(degree_list))\n",
    "print(\"betweeness: \",len(betweenness_list))\n",
    "\n",
    "x = degree_list\n",
    "y = betweenness_list\n",
    "\n",
    "plt.scatter(x,y)\n",
    "plt.show()"
   ]
  }
 ],
 "metadata": {
  "kernelspec": {
   "argv": [
    "/usr/bin/python3",
    "-m",
    "ipykernel",
    "--HistoryManager.enabled=False",
    "--matplotlib=inline",
    "-c",
    "%config InlineBackend.figure_formats = set(['retina'])\nimport matplotlib; matplotlib.rcParams['figure.figsize'] = (12, 7)",
    "-f",
    "{connection_file}"
   ],
   "display_name": "Python 3 (system-wide)",
   "env": {
   },
   "language": "python",
   "metadata": {
    "cocalc": {
     "description": "Python 3 programming language",
     "priority": 100,
     "url": "https://www.python.org/"
    }
   },
   "name": "python3",
   "resource_dir": "/ext/jupyter/kernels/python3"
  },
  "language_info": {
   "codemirror_mode": {
    "name": "ipython",
    "version": 3
   },
   "file_extension": ".py",
   "mimetype": "text/x-python",
   "name": "python",
   "nbconvert_exporter": "python",
   "pygments_lexer": "ipython3",
   "version": "3.8.10"
  }
 },
 "nbformat": 4,
 "nbformat_minor": 4
}
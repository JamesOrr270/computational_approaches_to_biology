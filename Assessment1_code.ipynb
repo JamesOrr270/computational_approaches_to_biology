{
 "cells": [
  {
   "cell_type": "code",
   "execution_count": 1,
   "id": "56e099",
   "metadata": {
    "collapsed": false
   },
   "outputs": [
   ],
   "source": [
    "import boolean2 as b2\n",
    "import matplotlib.pyplot as plt"
   ]
  },
  {
   "cell_type": "code",
   "execution_count": 2,
   "id": "1ec510",
   "metadata": {
    "collapsed": false
   },
   "outputs": [
    {
     "name": "stdout",
     "output_type": "stream",
     "text": [
      "Steady state starting at index 2 -> State: DUSP=True, ERK=True, HER2=True, JNK=True, P38=True, herceptin=False, survival=True\n"
     ]
    },
    {
     "data": {
      "image/png": "[encoded data removed]",
      "text/plain": [
       "<Figure size 432x288 with 1 Axes>"
      ]
     },
     "execution_count": 2,
     "metadata": {
      "needs_background": "light"
     },
     "output_type": "execute_result"
    }
   ],
   "source": [
    "#Construct a Boolean model that contains the above proteins and implements the appropriate logic rules\n",
    "import boolean2\n",
    "\n",
    "model_definition = \"\"\"\n",
    "\n",
    "HER2 = survival = True\n",
    "\n",
    "herceptin = JNK = P38 = ERK = DUSP = False\n",
    "\n",
    "HER2* = not herceptin\n",
    "ERK* = HER2\n",
    "JNK* = HER2 or not DUSP\n",
    "P38* = HER2 or not DUSP\n",
    "DUSP* = JNK\n",
    "survival* = ERK or not (JNK and P38)\n",
    "\n",
    "\"\"\"\n",
    "model = boolean2.Model(text=model_definition, mode='sync')\n",
    "model.initialize()\n",
    "model.iterate(steps=10)\n",
    "model.report_cycles()\n",
    "\n",
    "graph_1 = list()\n",
    "\n",
    "for node in model.data:\n",
    "    graph_1.append(model.data[node])\n",
    "      \n",
    "plt.imshow(graph_1, cmap=plt.cm.get_cmap('RdYlGn'), interpolation='none')\n",
    "\n",
    "plt.xlabel(\"Iteration\")\n",
    "plt.ylabel(\"Node\")\n",
    "plt.yticks(range(0,7), model.data)\n",
    "\n",
    "legend_labels = ['Active', 'Inactive']\n",
    "legend_colors = ['#006837', '#A50026']\n",
    "legend_icon = [plt.Line2D([0], [0], color=color, lw=5) for color in legend_colors]\n",
    "\n",
    "plt.legend(legend_icon, legend_labels, loc=\"center left\",bbox_to_anchor=(1.0, 0.90))\n",
    "\n",
    "plt.show()"
   ]
  },
  {
   "cell_type": "code",
   "execution_count": 3,
   "id": "e96549",
   "metadata": {
    "collapsed": false
   },
   "outputs": [
    {
     "name": "stdout",
     "output_type": "stream",
     "text": [
      "Cycle of length 4 starting at index 3\n"
     ]
    },
    {
     "data": {
      "image/png": "[encoded data removed]",
      "text/plain": [
       "<Figure size 432x288 with 1 Axes>"
      ]
     },
     "execution_count": 3,
     "metadata": {
      "needs_background": "light"
     },
     "output_type": "execute_result"
    }
   ],
   "source": [
    "#2. Run the model when Herceptin is applied to HER2 positive breast cancer cells and determine if it converges towards a steady state or a limit cycle. Are the cells expected to survive or not after treatment by Herceptin?\n",
    "\n",
    "model_definition_herceptin = \"\"\"\n",
    "\n",
    "#Using the steady state that was reached\n",
    "\n",
    "herceptin = HER2 = survival = JNK = P38 = ERK = DUSP = True\n",
    "\n",
    "HER2* = not herceptin\n",
    "ERK* = HER2\n",
    "JNK* = HER2 or not DUSP\n",
    "P38* = HER2 or not DUSP\n",
    "DUSP* = JNK\n",
    "survival* = ERK or not (JNK and P38)\n",
    "\n",
    "\"\"\"\n",
    "\n",
    "model_herceptin = boolean2.Model(text=model_definition_herceptin, mode='sync')\n",
    "model_herceptin.initialize()\n",
    "model_herceptin.iterate(steps=10)\n",
    "model_herceptin.report_cycles()\n",
    "\n",
    "graph_2 = list()\n",
    "\n",
    "for node in model_herceptin.data:\n",
    "    graph_2.append(model_herceptin.data[node])\n",
    "        \n",
    "plt.imshow(graph_2, cmap=plt.cm.get_cmap('RdYlGn'), interpolation='none')\n",
    "    \n",
    "plt.xlabel(\"Iteration\")\n",
    "plt.ylabel(\"Node\")\n",
    "plt.yticks(range(0,7), model_herceptin.data)\n",
    "\n",
    "legend_labels_2 = ['Active', 'Inactive']\n",
    "legend_colors_2 = ['#006837', '#A50026']\n",
    "legend_icon_2 = [plt.Line2D([0], [0], color=color, lw=5) for color in legend_colors_2]\n",
    "\n",
    "plt.legend(legend_icon_2, legend_labels_2, loc=\"center left\",bbox_to_anchor=(1.0, 0.90))\n",
    "\n",
    "plt.show()\n",
    " "
   ]
  },
  {
   "cell_type": "code",
   "execution_count": 4,
   "id": "805a15",
   "metadata": {
    "collapsed": false
   },
   "outputs": [
    {
     "name": "stdout",
     "output_type": "stream",
     "text": [
      "Steady state starting at index 3 -> State: DUSP=False, DUSP_inhibitor=True, ERK=False, HER2=False, JNK=True, P38=True, herceptin=True, survival=False\n"
     ]
    },
    {
     "data": {
      "image/png": "[encoded data removed]",
      "text/plain": [
       "<Figure size 432x288 with 1 Axes>"
      ]
     },
     "execution_count": 4,
     "metadata": {
      "needs_background": "light"
     },
     "output_type": "execute_result"
    }
   ],
   "source": [
    "# 3. We have designed an inhibitor of DUSP, which when applied to the cells will keep DUSP permanently inactive. Modify the model accordingly and run it again; are the cells expected to survive or not after treatment by Herceptin and exposure to the DUSP inhibitor?\n",
    "\n",
    "model_definition_DUSP_inhibitor = \"\"\"\n",
    "\n",
    "herceptin = HER2 = survival = JNK = P38 = ERK = DUSP_inhibitor = DUSP = True\n",
    "\n",
    "\n",
    "HER2* = not herceptin\n",
    "ERK* = HER2\n",
    "JNK* = HER2 or not DUSP\n",
    "P38* = HER2 or not DUSP\n",
    "DUSP* = not DUSP_inhibitor\n",
    "survival* = ERK or not (JNK and P38)\n",
    "\n",
    "\"\"\"\n",
    "\n",
    "model_DUSP_inhibitor = boolean2.Model(text=model_definition_DUSP_inhibitor, mode='sync')\n",
    "model_DUSP_inhibitor.initialize()\n",
    "model_DUSP_inhibitor.iterate(steps=10)\n",
    "\n",
    "graph_3 = list()\n",
    "\n",
    "for node in model_DUSP_inhibitor.data:\n",
    "    graph_3.append(model_DUSP_inhibitor.data[node])\n",
    "    \n",
    "model_DUSP_inhibitor.report_cycles()\n",
    "\n",
    "plt.xlabel(\"Iteration\")\n",
    "plt.ylabel(\"Node\")\n",
    "plt.yticks(range(0,8), model_DUSP_inhibitor.data)\n",
    "plt.imshow(graph_3, cmap=plt.cm.get_cmap('RdYlGn'), interpolation='none')  \n",
    "\n",
    "legend_labels_3 = ['Active', 'Inactive']\n",
    "legend_colors_3 = ['#006837', '#A50026']\n",
    "legend_icon_3 = [plt.Line2D([0], [0], color=color, lw=5) for color in legend_colors_3]\n",
    "\n",
    "plt.legend(legend_icon_3, legend_labels_3, loc=\"center left\",bbox_to_anchor=(1.0, 0.90))\n",
    "\n",
    "plt.show()\n",
    "\n",
    "\n",
    "#Kills the cells within the same amount of time but reaches a steady state in which the cells do not survive"
   ]
  }
 ],
 "metadata": {
  "kernelspec": {
   "argv": [
    "python2",
    "-m",
    "ipykernel_launcher",
    "-f",
    "{connection_file}"
   ],
   "display_name": "Python 2",
   "env": {
   },
   "language": "python",
   "metadata": {
    "cocalc": {
     "description": "Python 2 programming language",
     "priority": 0,
     "url": "https://www.python.org/"
    }
   },
   "name": "python2",
   "resource_dir": "/ext/jupyter/kernels/python2"
  },
  "language_info": {
   "codemirror_mode": {
    "name": "ipython",
    "version": 2
   },
   "file_extension": ".py",
   "mimetype": "text/x-python",
   "name": "python",
   "nbconvert_exporter": "python",
   "pygments_lexer": "ipython2",
   "version": "2.7.18"
  }
 },
 "nbformat": 4,
 "nbformat_minor": 4
}
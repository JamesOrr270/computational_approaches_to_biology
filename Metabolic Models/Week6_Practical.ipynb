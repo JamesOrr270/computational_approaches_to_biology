{
 "cells": [
  {
   "cell_type": "markdown",
   "id": "65fbd5",
   "metadata": {
    "collapsed": false
   },
   "source": [
    "Cobra documentation: https://cobrapy.readthedocs.io/en/latest/index.html\n",
    "\n"
   ]
  },
  {
   "cell_type": "markdown",
   "id": "97fce2",
   "metadata": {
    "collapsed": false
   },
   "source": [
    "In case Cobra doesn't run do the following:\n",
    "\n",
    "* Go to the Files list and open a terminal (`terminal.term`)\n",
    "* Type: `pip3 install --upgrade python-libsbml`\n",
    "* Type: `pip3 install --upgrade sympy`\n",
    "* Type: `pip3 install --upgrade cobra`\n",
    "* Go to Settings and click on `Restart project`\n",
    "\n"
   ]
  },
  {
   "cell_type": "code",
   "execution_count": 2,
   "id": "c34b3d",
   "metadata": {
    "collapsed": false
   },
   "outputs": [],
   "source": [
    "import cobra\n",
    "import matplotlib.pyplot as plt\n",
    "import random\n",
    "random.seed(42)"
   ]
  },
  {
   "cell_type": "markdown",
   "id": "8bbd44",
   "metadata": {
    "collapsed": false
   },
   "source": [
    "## Exercise: using a metabolic model of <i>Chlamydomonas reinhardtii</i>."
   ]
  },
  {
   "cell_type": "markdown",
   "id": "5cd68f",
   "metadata": {
    "collapsed": false
   },
   "source": [
    "* Read the model, which is available in the file \"iRC1080-Chapman3.xml\" (you can ignore any warning messages)."
   ]
  },
  {
   "cell_type": "code",
   "execution_count": 3,
   "id": "ab3568",
   "metadata": {
    "collapsed": false,
    "scrolled": true
   },
   "outputs": [
    {
     "name": "stderr",
     "output_type": "stream",
     "text": [
      "'' is not a valid SBML 'SId'.\n",
      "No objective coefficients in model. Unclear what should be optimized\n"
     ]
    }
   ],
   "source": [
    "chlamyNet = \"iRC1080-Chapman3.xml\"\n",
    "model = cobra.io.read_sbml_model(chlamyNet)"
   ]
  },
  {
   "cell_type": "code",
   "execution_count": 4,
   "id": "017258",
   "metadata": {
    "collapsed": false
   },
   "outputs": [
    {
     "data": {
      "text/html": [
       "\n",
       "        <table>\n",
       "            <tr>\n",
       "                <td><strong>Name</strong></td>\n",
       "                <td></td>\n",
       "            </tr><tr>\n",
       "                <td><strong>Memory address</strong></td>\n",
       "                <td>138570440</td>\n",
       "            </tr><tr>\n",
       "                <td><strong>Number of metabolites</strong></td>\n",
       "                <td>1706</td>\n",
       "            </tr><tr>\n",
       "                <td><strong>Number of reactions</strong></td>\n",
       "                <td>2191</td>\n",
       "            </tr><tr>\n",
       "                <td><strong>Number of genes</strong></td>\n",
       "                <td>1086</td>\n",
       "            </tr><tr>\n",
       "                <td><strong>Number of groups</strong></td>\n",
       "                <td>112</td>\n",
       "            </tr><tr>\n",
       "                <td><strong>Objective expression</strong></td>\n",
       "                <td>0</td>\n",
       "            </tr><tr>\n",
       "                <td><strong>Compartments</strong></td>\n",
       "                <td>Cytosol, Chloroplast, Mitochondria, Glyoxysome, Flagellum, Extra-organism, Nucleus, Golgi Apparatus, Eyespot, Thylakoid Lumen</td>\n",
       "            </tr>\n",
       "          </table>"
      ],
      "text/plain": [
       "<Model  at 0x138570440>"
      ]
     },
     "execution_count": 4,
     "metadata": {},
     "output_type": "execute_result"
    }
   ],
   "source": [
    "model"
   ]
  },
  {
   "cell_type": "markdown",
   "id": "e9ff34",
   "metadata": {
    "collapsed": false
   },
   "source": [
    "* Print the number of reactions, metabolites and genes."
   ]
  },
  {
   "cell_type": "code",
   "execution_count": 5,
   "id": "00b2c8",
   "metadata": {
    "collapsed": false
   },
   "outputs": [
    {
     "name": "stdout",
     "output_type": "stream",
     "text": [
      "Reactions: 2191\n",
      "Metabolites: 1706\n",
      "Genes: 1086\n"
     ]
    }
   ],
   "source": [
    "print(\"Reactions:\", len(model.reactions))\n",
    "print(\"Metabolites:\", len(model.metabolites))\n",
    "print(\"Genes:\", len(model.genes))"
   ]
  },
  {
   "cell_type": "markdown",
   "id": "a4d0d7",
   "metadata": {
    "collapsed": false
   },
   "source": [
    "* Find all occurrences of fumarate in the model and print their IDs.\n",
    "* In which cellular compartments is fumarate present?"
   ]
  },
  {
   "cell_type": "code",
   "execution_count": 6,
   "id": "f85c2b",
   "metadata": {
    "collapsed": false,
    "scrolled": true
   },
   "outputs": [
    {
     "name": "stdout",
     "output_type": "stream",
     "text": [
      "fum_c :  Fumarate\n",
      "fum_h :  Fumarate\n",
      "fum_m :  Fumarate\n",
      "{'c': 'Cytosol', 'h': 'Chloroplast', 'm': 'Mitochondria', 'x': 'Glyoxysome', 'f': 'Flagellum', 'e': 'Extra-organism', 'n': 'Nucleus', 'g': 'Golgi Apparatus', 's': 'Eyespot', 'u': 'Thylakoid Lumen'}\n"
     ]
    }
   ],
   "source": [
    "for m in model.metabolites:\n",
    "    if \"Fumarate\" in m.name:\n",
    "        print(m.id, ': ', m.name)\n",
    "print(model.compartments)"
   ]
  },
  {
   "cell_type": "markdown",
   "id": "578dfd",
   "metadata": {
    "collapsed": false
   },
   "source": [
    "* Print the chemical formula and charge of fumarate."
   ]
  },
  {
   "cell_type": "code",
   "execution_count": 7,
   "id": "4d5c41",
   "metadata": {
    "collapsed": false
   },
   "outputs": [
    {
     "name": "stdout",
     "output_type": "stream",
     "text": [
      "Fumarate\n",
      "Formula: C4H2O4\n",
      "Charge: 0\n"
     ]
    }
   ],
   "source": [
    "fumarate = model.metabolites.get_by_id(\"fum_c\")\n",
    "print(fumarate.name)\n",
    "print(\"Formula:\", fumarate.formula)\n",
    "print(\"Charge:\", fumarate.charge)"
   ]
  },
  {
   "cell_type": "markdown",
   "id": "ec11df",
   "metadata": {
    "collapsed": false
   },
   "source": [
    "* List all reactions containing fumarate."
   ]
  },
  {
   "cell_type": "code",
   "execution_count": 8,
   "id": "a9c378",
   "metadata": {
    "collapsed": false,
    "scrolled": true
   },
   "outputs": [
    {
     "name": "stdout",
     "output_type": "stream",
     "text": [
      "SUCFUMthr succinate-fumarate antiport, chloroplast fum_h + succ_c <=> fum_c + succ_h\n",
      "ARGSL argininosuccinate lyase argsuc_c <=> arg_DASH_L_c + fum_c\n",
      "SUCFUMtmr Succinate/fumarate antiporter, mitochondrial fum_m + succ_c <=> fum_c + succ_m\n",
      "AAL_LPAREN_fum_RPAREN_ N6-(1,2-dicarboxyethyl)AMP AMP-lyase (fumarate-forming) dcamp_c --> amp_c + fum_c\n",
      "AIAL 1-(5'-Phosphoribosyl)-5-amino-4-(N-succinocarboxamide)-imidazole AMP-lyase 25aics_c <=> aicar_c + fum_c\n",
      "FAA fumarylacetoacetase 4fumacac_c + h2o_c --> acac_c + fum_c + h_c\n"
     ]
    }
   ],
   "source": [
    "for r in fumarate.reactions:\n",
    "    print(r.id, r.name, r.reaction)"
   ]
  },
  {
   "cell_type": "markdown",
   "id": "3045a6",
   "metadata": {
    "collapsed": false
   },
   "source": [
    "* Set the biomass objective to heterotrophic growth.\n",
    "* Run FBA and print the objective value (biomass production).\n",
    "\n"
   ]
  },
  {
   "cell_type": "code",
   "execution_count": 9,
   "id": "086b4e",
   "metadata": {
    "collapsed": false,
    "scrolled": true
   },
   "outputs": [
    {
     "name": "stdout",
     "output_type": "stream",
     "text": [
      "Biomass_Chlamy_auto :  Biomass (autotrophic)\n",
      "Biomass_Chlamy_mixo :  Biomass (mixotrophic)\n",
      "Biomass_Chlamy_hetero :  Biomass (heterotrophic)\n",
      "FBA status: optimal\n",
      "FBA solution: 6.3733278331230325\n"
     ]
    }
   ],
   "source": [
    "for r in model.reactions:\n",
    "    if \"Biomass\" in r.name:\n",
    "        print(r.id, ': ', r.name)\n",
    "biomass_rxn = model.reactions.get_by_id(\"Biomass_Chlamy_hetero\")\n",
    "biomass_rxn.objective_coefficient = 1\n",
    "#biomass_rxn = model.reactions.get_by_id(\"Biomass_Chlamy_auto\")\n",
    "#biomass_rxn.objective_coefficient = 0\n",
    "#biomass_rxn = model.reactions.get_by_id(\"Biomass_Chlamy_mixo\")\n",
    "#biomass_rxn.objective_coefficient = 0\n",
    "solution = model.optimize()\n",
    "print(\"FBA status:\", solution.status)\n",
    "print(\"FBA solution:\", solution.objective_value)"
   ]
  },
  {
   "cell_type": "markdown",
   "id": "b32718",
   "metadata": {
    "collapsed": false
   },
   "source": [
    "* Print the flux of all reactions containing fumarate."
   ]
  },
  {
   "cell_type": "code",
   "execution_count": 10,
   "id": "160705",
   "metadata": {
    "collapsed": false
   },
   "outputs": [
    {
     "name": "stdout",
     "output_type": "stream",
     "text": [
      "SUCFUMthr 0.0\n",
      "ARGSL 0.6053108819227954\n",
      "SUCFUMtmr -31.0440921180191\n",
      "AAL_LPAREN_fum_RPAREN_ 29.362480026657835\n",
      "AIAL 1.0763012094384732\n",
      "FAA 0.0\n"
     ]
    }
   ],
   "source": [
    "for r in fumarate.reactions:\n",
    "    print(r.id, solution.fluxes[r.id])"
   ]
  },
  {
   "cell_type": "markdown",
   "id": "1fabb4",
   "metadata": {
    "collapsed": false
   },
   "source": [
    "* Find the reaction that imports extracellular acetate into the cell."
   ]
  },
  {
   "cell_type": "code",
   "execution_count": 11,
   "id": "091cf3",
   "metadata": {
    "collapsed": false,
    "scrolled": true
   },
   "outputs": [
    {
     "name": "stdout",
     "output_type": "stream",
     "text": [
      "ac_c :  Acetate\n",
      "ac_e :  Acetate\n",
      "ac_h :  Acetate\n",
      "ac_m :  Acetate\n",
      "ac_s :  Acetate\n",
      "ACt acetate transport in via proton symport :  ac_e <=> ac_c\n",
      "EX_ac_LPAREN_e_RPAREN_ Acetate exchange :  ac_e <=> \n"
     ]
    }
   ],
   "source": [
    "for m in model.metabolites:\n",
    "    if \"Acetate\" in m.name:\n",
    "        print(m.id, \": \", m.name)\n",
    "acetate= model.metabolites.get_by_id(\"ac_e\")\n",
    "for r in acetate.reactions:\n",
    "    print(r.id, r.name, \": \", r.reaction)\n",
    "\n",
    "exac = model.reactions.get_by_id(\"EX_ac_LPAREN_e_RPAREN_\")"
   ]
  },
  {
   "cell_type": "markdown",
   "id": "f631d3",
   "metadata": {
    "collapsed": false
   },
   "source": [
    "* Set the acetate import flux to 10.\n",
    "* Run FBA and print the objective value."
   ]
  },
  {
   "cell_type": "code",
   "execution_count": 12,
   "id": "894157",
   "metadata": {
    "collapsed": false
   },
   "outputs": [
    {
     "name": "stdout",
     "output_type": "stream",
     "text": [
      "FBA status: optimal\n",
      "FBA solution: 6.373327833116916\n"
     ]
    }
   ],
   "source": [
    "exac.lower_bound = -10\n",
    "exac.upper_bound = -10\n",
    "solution = model.optimize()\n",
    "print(\"FBA status:\", solution.status)\n",
    "print(\"FBA solution:\", solution.objective_value)"
   ]
  },
  {
   "cell_type": "markdown",
   "id": "fe3703",
   "metadata": {
    "collapsed": false
   },
   "source": [
    "- Run a series of FBA simulations with the acetate uptake flux ranging from 0 to 20.\n",
    "- Plot a line graph showing how the flux of the argininosuccinate lyase reaction varies depending on the acetate.  \n",
    "\n"
   ]
  },
  {
   "cell_type": "code",
   "execution_count": 13,
   "id": "702fe7",
   "metadata": {
    "collapsed": false
   },
   "outputs": [
    {
     "name": "stdout",
     "output_type": "stream",
     "text": [
      "[np.float64(1.2318202887591823), np.float64(1.1577462146850925), np.float64(1.083672140611021), np.float64(1.0095980665369475), np.float64(0.9355239924628709), np.float64(0.8614499183887963), np.float64(0.7873758443147233), np.float64(0.713301770240651), np.float64(0.6777148417708829), np.float64(0.6499370639931407), np.float64(0.6221592862153644), np.float64(0.6053108819221927), np.float64(0.6053108819222206), np.float64(0.6053108819222215), np.float64(0.6053108819222215), np.float64(0.6053108819222274), np.float64(0.6053108819222282), np.float64(0.6053108819222363), np.float64(0.6053108819222355), np.float64(0.605310881922231)]\n"
     ]
    },
    {
     "data": {
      "text/plain": [
       "[<matplotlib.lines.Line2D at 0x1419d3710>]"
      ]
     },
     "execution_count": 13,
     "metadata": {},
     "output_type": "execute_result"
    },
    {
     "data": {
      "image/png": "[encoded data removed]",
      "text/plain": [
       "<Figure size 640x480 with 1 Axes>"
      ]
     },
     "metadata": {},
     "output_type": "display_data"
    }
   ],
   "source": [
    "random.seed(42)\n",
    "arg_flux = list()\n",
    "for ac_flux in range(0, 20):\n",
    "    #exac.bounds = (0,0)\n",
    "    exac.bounds = (-ac_flux, -ac_flux)\n",
    "    solution = model.optimize()\n",
    "#    solution = cobra.flux_analysis.pfba(model)\n",
    "    arg_flux.append(solution.fluxes[\"ARGSL\"])\n",
    "print(arg_flux)\n",
    "x = [x for x in range(0, 20)]\n",
    "plt.plot(x, arg_flux)"
   ]
  },
  {
   "cell_type": "code",
   "execution_count": null,
   "id": "357d15",
   "metadata": {
    "collapsed": false
   },
   "outputs": [],
   "source": []
  }
 ],
 "metadata": {
  "kernelspec": {
   "argv": [
    "/usr/bin/python3",
    "-m",
    "ipykernel",
    "--HistoryManager.enabled=False",
    "--matplotlib=inline",
    "-c",
    "%config InlineBackend.figure_formats = set(['retina'])\nimport matplotlib; matplotlib.rcParams['figure.figsize'] = (12, 7)",
    "-f",
    "{connection_file}"
   ],
   "display_name": "Python 3 (system-wide)",
   "env": {},
   "language": "python",
   "metadata": {
    "cocalc": {
     "description": "Python 3 programming language",
     "priority": 100,
     "url": "https://www.python.org/"
    }
   },
   "name": "python3",
   "resource_dir": "/ext/jupyter/kernels/python3"
  },
  "language_info": {
   "codemirror_mode": {
    "name": "ipython",
    "version": 3
   },
   "file_extension": ".py",
   "mimetype": "text/x-python",
   "name": "python",
   "nbconvert_exporter": "python",
   "pygments_lexer": "ipython3",
   "version": "3.12.1"
  },
  "latex_envs": {
   "LaTeX_envs_menu_present": true,
   "autoclose": false,
   "autocomplete": true,
   "bibliofile": "biblio.bib",
   "cite_by": "apalike",
   "current_citInitial": 1,
   "eqLabelWithNumbers": true,
   "eqNumInitial": 1,
   "hotkeys": {
    "equation": "Ctrl-E",
    "itemize": "Ctrl-I"
   },
   "labels_anchors": false,
   "latex_user_defs": false,
   "report_style_numbering": false,
   "user_envs_cfg": false
  }
 },
 "nbformat": 4,
 "nbformat_minor": 4
}

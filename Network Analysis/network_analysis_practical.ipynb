{
 "cells": [
  {
   "cell_type": "code",
   "execution_count": null,
   "metadata": {},
   "outputs": [],
   "source": [
    "import networkx as nx\n",
    "import matplotlib.pyplot as plt\n",
    "import numpy as np"
   ]
  },
  {
   "cell_type": "markdown",
   "metadata": {},
   "source": [
    "## Exercise 1  \n",
    "This exercise is aimed at practising the fundamental NetworkX functions for creating a graph, visualing it and accessing some node properties.  \n",
    "* Create a network consisting of 4 nodes A, B, C, D, and edges connecting A-B, A-C, B-C, C-D.  \n",
    "* Draw the network."
   ]
  },
  {
   "cell_type": "code",
   "execution_count": null,
   "metadata": {},
   "outputs": [],
   "source": [
    "G = nx.Graph()  \n",
    "G.add_nodes_from(['A', 'B', 'C', 'D'])  \n",
    "G.add_edges_from([('A', 'B'), ('A', 'C'), ('B', 'C'), ('C', 'D')])\n",
    "nx.draw_networkx(G)"
   ]
  },
  {
   "cell_type": "markdown",
   "metadata": {},
   "source": [
    "* Print the list of nodes.  \n",
    "* Print the number of nodes.  "
   ]
  },
  {
   "cell_type": "code",
   "execution_count": null,
   "metadata": {},
   "outputs": [],
   "source": [
    "print(\"Number of nodes: \",G.number_of_nodes())\n",
    "print(\"List of nodes: \", list(G.nodes))\n",
    "print(\"Number of Edges: \", G.number_of_edges())\n",
    "print(\"List of Edges: \", list(G.edges))"
   ]
  },
  {
   "cell_type": "markdown",
   "metadata": {},
   "source": [
    "* Print the degree of node C"
   ]
  },
  {
   "cell_type": "code",
   "execution_count": null,
   "metadata": {},
   "outputs": [],
   "source": [
    "for node in G.nodes:\n",
    "    print('Degree of', node,\"=\", G.degree(node))"
   ]
  },
  {
   "cell_type": "markdown",
   "metadata": {},
   "source": [
    "## Exercise 2\n",
    "This exercise is aimed at practising more advanced functions to compute and visualise the topological properties of a network.\n",
    "* Create a random network containing 50 nodes.\n",
    "* Draw the network."
   ]
  },
  {
   "cell_type": "code",
   "execution_count": null,
   "metadata": {},
   "outputs": [],
   "source": [
    "F = nx.erdos_renyi_graph(50,0.2)\n",
    "nx.draw_networkx(F)"
   ]
  },
  {
   "cell_type": "markdown",
   "metadata": {},
   "source": [
    "* Print the degrees of all nodes.  \n",
    "* Find the minimum and maximum degree in the network."
   ]
  },
  {
   "cell_type": "code",
   "execution_count": null,
   "metadata": {},
   "outputs": [],
   "source": [
    "degree_list = []\n",
    "\n",
    "for n in F:\n",
    "    degree_list.append(nx.degree(F)[n])\n",
    "    \n",
    "print(\"List of Nodes: \",degree_list)\n",
    "print(\"Maximum Degree:\", max(degree_list))\n",
    "print(\"Minimum Degree:\",min(degree_list))\n"
   ]
  },
  {
   "cell_type": "markdown",
   "metadata": {},
   "source": [
    "* Calculate the average degree of the network."
   ]
  },
  {
   "cell_type": "code",
   "execution_count": null,
   "metadata": {},
   "outputs": [],
   "source": [
    "print(\"Average degree: \", sum)"
   ]
  },
  {
   "cell_type": "markdown",
   "metadata": {},
   "source": [
    "* Plot the degree distribution of the network"
   ]
  },
  {
   "cell_type": "code",
   "execution_count": null,
   "metadata": {},
   "outputs": [],
   "source": [
    "plt.plot(nx.degree_histogram(F))"
   ]
  },
  {
   "cell_type": "markdown",
   "metadata": {},
   "source": [
    "* List the degree and the betweenness centrality of each node."
   ]
  },
  {
   "cell_type": "code",
   "execution_count": null,
   "metadata": {},
   "outputs": [],
   "source": [
    "for n in F:\n",
    "    print(n,\"- Degree:\",nx.degree(F)[n],\"Closeness of centrality:\",nx.closeness_centrality(F)[n])"
   ]
  },
  {
   "cell_type": "markdown",
   "metadata": {},
   "source": [
    "* Using the `matplotlib.pyplot.scatter` function (https://matplotlib.org/stable/gallery/shapes_and_collections/scatter.html#), draw a scatterplot where the degree of each node is shown along the horizontal axis and its betweenness along the vertical axis.  "
   ]
  },
  {
   "cell_type": "code",
   "execution_count": null,
   "metadata": {},
   "outputs": [],
   "source": [
    "N = nx.number_of_nodes(F)\n",
    "\n",
    "print(F)\n",
    "\n",
    "betweenness_centrality_list = []\n",
    "\n",
    "for node in F.nodes:\n",
    "    betweenness_centrality_list.append(nx.betweenness_centrality(F)[node])\n",
    "\n",
    "x = degree_list\n",
    "y = betweenness_centrality_list\n",
    "\n",
    "\n",
    "print(len(x))\n",
    "print(len(y))\n",
    "\n",
    "plt.scatter(x, y)\n",
    "plt.show()\n"
   ]
  },
  {
   "cell_type": "markdown",
   "metadata": {},
   "source": [
    "## Exercise 3\n",
    "This exercise is aimed at reading and analysing a network from a pre-existing dataset. The file `cellcycle_proteins.txt` contains a list of interacting proteins implicated in the mitotic cell cycle. Each line represents a pair of proteins connected by an edge.\n",
    "* Create a network from this list of interactions.  \n",
    "* Draw the network."
   ]
  },
  {
   "cell_type": "code",
   "execution_count": null,
   "metadata": {},
   "outputs": [],
   "source": [
    "G=nx.read_edgelist(\"cellcycle_proteins.txt\")\n",
    "nx.draw_networkx(G)"
   ]
  },
  {
   "cell_type": "code",
   "execution_count": null,
   "metadata": {},
   "outputs": [],
   "source": [
    "with open(\"cellcycle_proteins.txt\", \"r\") as file:\n",
    "    lines = file.readlines()\n",
    "    \n",
    "H = nx.Graph()\n",
    "\n",
    "for line in lines:\n",
    "    protein1, protein2 = line.strip().split() \n",
    "    H.add_edge(protein1, protein2)\n",
    "\n",
    "\n",
    "nx.draw_networkx(H)"
   ]
  },
  {
   "cell_type": "markdown",
   "metadata": {},
   "source": [
    "* List the degree and the betweenness centrality of each node."
   ]
  },
  {
   "cell_type": "code",
   "execution_count": null,
   "metadata": {},
   "outputs": [],
   "source": [
    "degree_list = []\n",
    "betweeness_list = []\n",
    "\n",
    "for i in H:\n",
    "    print(\"For\", i, \"the degree is\",nx.degree(H)[i],\"and the betweeness is\",nx.betweenness_centrality(G)[i])\n",
    "    "
   ]
  },
  {
   "cell_type": "markdown",
   "metadata": {},
   "source": [
    "* Draw a scatterplot where the degree of each node is shown along the horizontal axis and its betweenness along the vertical axis.*  \n",
    "* Compare this plot with that obtained in Exercise 2."
   ]
  },
  {
   "cell_type": "code",
   "execution_count": null,
   "metadata": {},
   "outputs": [],
   "source": [
    "degree_list = []\n",
    "betweenness_list = []\n",
    "\n",
    "for i in H.nodes():\n",
    "    degree_list.append(nx.degree(H)[i])\n",
    "    betweenness_list.append(nx.betweenness_centrality(H)[i])\n",
    "       \n",
    "print(\"Degree: \",len(degree_list))\n",
    "print(\"betweeness: \",len(betweenness_list))\n",
    "\n",
    "x = degree_list\n",
    "y = betweenness_list\n",
    "\n",
    "plt.scatter(x,y)\n",
    "plt.show()"
   ]
  }
 ],
 "metadata": {
  "kernelspec": {
   "display_name": "venv",
   "language": "python",
   "name": "python3"
  },
  "language_info": {
   "codemirror_mode": {
    "name": "ipython",
    "version": 3
   },
   "file_extension": ".py",
   "mimetype": "text/x-python",
   "name": "python",
   "nbconvert_exporter": "python",
   "pygments_lexer": "ipython3",
   "version": "3.12.1"
  }
 },
 "nbformat": 4,
 "nbformat_minor": 2
}

{
 "cells": [
  {
   "cell_type": "markdown",
   "id": "ff05f8",
   "metadata": {
    "collapsed": false
   },
   "source": [
    "In case BooleanNet doesn't run do the following:\n",
    "\n",
    "* Go to the Files list and open a terminal (`terminal.term`)\n",
    "* Type: `pip2 install BooleanNet`\n",
    "* Go to Settings and click on `Restart project`\n",
    "\n"
   ]
  },
  {
   "cell_type": "code",
   "execution_count": 7,
   "id": "afd914",
   "metadata": {
    "collapsed": false
   },
   "outputs": [
   ],
   "source": [
    "import boolean2 as b2\n",
    "import matplotlib.pyplot as plt"
   ]
  },
  {
   "cell_type": "markdown",
   "id": "346439",
   "metadata": {
    "collapsed": false
   },
   "source": [
    "### Exercise 1\n",
    "* Create a Boolean model with three nodes (A, B, C) and the following update rules:  \n",
    "*A activates B*  \n",
    "*B activates C*  \n",
    "*C activates A*  \n",
    "* Assuming that all nodes are initially active, simulate 10 time steps and print the results. Does the model converge to a steady state or a limit cycle?"
   ]
  },
  {
   "cell_type": "code",
   "execution_count": 9,
   "id": "186222",
   "metadata": {
    "collapsed": false
   },
   "outputs": [
   ],
   "source": [
    "model_definition = \"\"\"\n",
    "\n",
    "A = B = C = True\n",
    "\n",
    "A* = C\n",
    "B* = A\n",
    "C* = B\n",
    "\n",
    "\"\"\""
   ]
  },
  {
   "cell_type": "markdown",
   "id": "4ac22c",
   "metadata": {
    "collapsed": false
   },
   "source": [
    "* Now change the third rule to *C inhibits A*, simulate 10 time steps and print the results. Does the model converge to a steady state or a limit cycle?"
   ]
  },
  {
   "cell_type": "code",
   "execution_count": 3,
   "id": "7b5775",
   "metadata": {
    "collapsed": false
   },
   "outputs": [
    {
     "name": "stdout",
     "output_type": "stream",
     "text": [
      "A [True, False, False, False, True, True, True, False, False, False, True]\n",
      "C [True, True, True, False, False, False, True, True, True, False, False]\n",
      "B [True, True, False, False, False, True, True, True, False, False, False]\n",
      "No cycle or steady state could be detected from the 11 states\n"
     ]
    }
   ],
   "source": [
    "import boolean2\n",
    "\n",
    "model_definition = \"\"\"\n",
    "\n",
    "A = B = C = True\n",
    "\n",
    "A* = not C\n",
    "B* = A\n",
    "C* = B\n",
    "\n",
    "\"\"\"\n",
    "\n",
    "model = boolean2.Model(text=model_definition, mode='sync')\n",
    "model.initialize()\n",
    "model.iterate(steps=10)\n",
    "\n",
    "for node in model.data:\n",
    "    print node, model.data[node]\n",
    "    \n",
    "model.report_cycles()"
   ]
  },
  {
   "cell_type": "code",
   "execution_count": 0,
   "id": "3784e3",
   "metadata": {
    "collapsed": false
   },
   "outputs": [
   ],
   "source": [
   ]
  },
  {
   "cell_type": "markdown",
   "id": "0539a6",
   "metadata": {
    "collapsed": false
   },
   "source": [
    "### Exercise 2\n",
    "* Build a model of the EGF system shown in the lecture slides.\n",
    "* Determine the steady states or limit cycles for EGF set *ON* or *OFF*, respectively."
   ]
  },
  {
   "cell_type": "code",
   "execution_count": 11,
   "id": "90e73b",
   "metadata": {
    "collapsed": false
   },
   "outputs": [
    {
     "name": "stdout",
     "output_type": "stream",
     "text": [
      "When EGF is On:\n",
      "Erk1 [False, False, False, True, True, True, True, True, True, True, True]\n",
      "Rac1 [False, False, True, True, True, True, True, True, True, True, True]\n",
      "EGF [True, True, True, True, True, True, True, True, True, True, True]\n",
      "Sos1 [False, True, True, True, True, True, True, True, True, True, True]\n",
      "Pak1 [False, False, False, True, True, True, True, True, True, True, True]\n",
      "Steady state starting at index 3 -> State: EGF=True, Erk1=True, Pak1=True, Rac1=True, Sos1=True\n"
     ]
    }
   ],
   "source": [
    "import boolean2\n",
    "\n",
    "EGF_On_model_definition = \"\"\"\n",
    "\n",
    "EGF  = True\n",
    "Sos1 = Rac1 = Erk1 = Pak1 = False\n",
    "\n",
    "Sos1* = EGF or not Erk1\n",
    "Rac1* = Sos1\n",
    "Erk1* = Rac1\n",
    "Pak1* = Sos1 and Rac1\n",
    "\n",
    "\"\"\"\n",
    "print \"When EGF is On:\"\n",
    "\n",
    "model = boolean2.Model(text=EGF_On_model_definition, mode='sync')\n",
    "model.initialize()\n",
    "model.iterate(steps = 10)\n",
    "\n",
    "for node in model.data:\n",
    "    print node, model.data[node]\n",
    "    \n",
    "model.report_cycles()"
   ]
  },
  {
   "cell_type": "code",
   "execution_count": 12,
   "id": "40d375",
   "metadata": {
    "collapsed": false
   },
   "outputs": [
    {
     "name": "stdout",
     "output_type": "stream",
     "text": [
      "When EGF is Off\n",
      "Erk1 [False, False, False, True, True, True, False, False, False, True, True]\n",
      "Rac1 [False, False, True, True, True, False, False, False, True, True, True]\n",
      "EGF [False, False, False, False, False, False, False, False, False, False, False]\n",
      "Sos1 [False, True, True, True, False, False, False, True, True, True, False]\n",
      "Pak1 [False, False, False, True, True, False, False, False, False, True, True]\n",
      "No cycle or steady state could be detected from the 11 states\n"
     ]
    }
   ],
   "source": [
    "print \"When EGF is Off\"\n",
    "\n",
    "EGF_Off_model_definition = \"\"\"\n",
    "\n",
    " \n",
    "EGF = Sos1 = Rac1 = Erk1 = Pak1 = False\n",
    "\n",
    "Sos1* = EGF or not Erk1\n",
    "Rac1* = Sos1\n",
    "Erk1* = Rac1\n",
    "Pak1* = Sos1 and Rac1\n",
    "\n",
    "\"\"\"\n",
    "\n",
    "model = boolean2.Model(text=EGF_Off_model_definition, mode='sync')\n",
    "model.initialize()\n",
    "model.iterate(steps = 10)\n",
    "\n",
    "for node in model.data:\n",
    "    print node, model.data[node]\n",
    "\n",
    "    \n",
    "model.report_cycles()"
   ]
  },
  {
   "cell_type": "markdown",
   "id": "6f6010",
   "metadata": {
    "collapsed": false
   },
   "source": [
    "- Using the matplotlib `imshow` function \\(see [https://matplotlib.org/stable/api/\\_as\\_gen/matplotlib.pyplot.imshow.html](https://matplotlib.org/stable/api/_as_gen/matplotlib.pyplot.imshow.html)\\), plot the results as a colour\\-coded map where each row contains a protein and each column a time step.\n",
    "\n"
   ]
  },
  {
   "cell_type": "code",
   "execution_count": 13,
   "id": "7246dc",
   "metadata": {
    "collapsed": false
   },
   "outputs": [
    {
     "data": {
      "text/plain": [
       "<matplotlib.image.AxesImage at 0x7f4da40d8290>"
      ]
     },
     "execution_count": 13,
     "metadata": {
     },
     "output_type": "execute_result"
    },
    {
     "data": {
      "image/png": "[encoded data removed]",
      "text/plain": "<Figure size 504x504 with 1 Axes>"
     },
     "metadata": {
      "needs_background": "light"
     }
    }
   ],
   "source": [
    "import numpy as np\n",
    "\n",
    "graph_list = []\n",
    "\n",
    "for node in model.data:\n",
    "    graph_list.append(model.data[node])\n",
    "    \n",
    "graph_array = np.array(graph_list)    \n",
    "\n",
    "plt.figure(figsize=(7,7))\n",
    "plt.yticks(range(0,5),model.data)\n",
    "plt.imshow(graph_array)\n",
    "\n"
   ]
  },
  {
   "cell_type": "markdown",
   "id": "75223a",
   "metadata": {
    "collapsed": false
   },
   "source": [
    "* Run the same model 10 times using an asynchronous update mode and plot the average state over time for each protein, using the same `imshow` function.  \n",
    "* Compare with the previous plot and discuss the results."
   ]
  },
  {
   "cell_type": "code",
   "execution_count": 23,
   "id": "3f346e",
   "metadata": {
    "collapsed": false
   },
   "outputs": [
    {
     "data": {
      "text/plain": [
       "<matplotlib.image.AxesImage at 0x7f84861289d0>"
      ]
     },
     "execution_count": 23,
     "metadata": {
     },
     "output_type": "execute_result"
    },
    {
     "data": {
      "image/png": "[encoded data removed]",
      "text/plain": "<Figure size 504x504 with 1 Axes>"
     },
     "metadata": {
      "needs_background": "light"
     }
    }
   ],
   "source": [
    "model = boolean2.Model(text=EGF_Off_model_definition, mode='async')\n",
    "model.initialize()\n",
    "model.iterate(steps = 10)\n",
    "\n",
    "import numpy as np\n",
    "\n",
    "graph_async_list = []\n",
    "\n",
    "for node in model.data:\n",
    "    graph_async_list.append(model.data[node])\n",
    "    \n",
    "graph_async_array = np.array(graph_async_list)    \n",
    "\n",
    "plt.figure(figsize=(7,7))\n",
    "plt.yticks(range(0,5),model.data)\n",
    "plt.imshow(graph_async_array)\n"
   ]
  },
  {
   "cell_type": "code",
   "execution_count": 18,
   "id": "b8d87a",
   "metadata": {
    "collapsed": false
   },
   "outputs": [
    {
     "ename": "TypeError",
     "evalue": "Image data cannot be converted to float",
     "output_type": "error",
     "traceback": [
      "\u001b[0;31m\u001b[0m",
      "\u001b[0;31mTypeError\u001b[0mTraceback (most recent call last)",
      "\u001b[0;32m<ipython-input-18-c9ecd1f9666d>\u001b[0m in \u001b[0;36m<module>\u001b[0;34m()\u001b[0m\n\u001b[1;32m     17\u001b[0m \u001b[0mplt\u001b[0m\u001b[0;34m.\u001b[0m\u001b[0mfigure\u001b[0m\u001b[0;34m(\u001b[0m\u001b[0mfigsize\u001b[0m\u001b[0;34m=\u001b[0m\u001b[0;34m(\u001b[0m\u001b[0;36m7\u001b[0m\u001b[0;34m,\u001b[0m\u001b[0;36m7\u001b[0m\u001b[0;34m)\u001b[0m\u001b[0;34m)\u001b[0m\u001b[0;34m\u001b[0m\u001b[0m\n\u001b[1;32m     18\u001b[0m \u001b[0mplt\u001b[0m\u001b[0;34m.\u001b[0m\u001b[0myticks\u001b[0m\u001b[0;34m(\u001b[0m\u001b[0mrange\u001b[0m\u001b[0;34m(\u001b[0m\u001b[0;36m0\u001b[0m\u001b[0;34m,\u001b[0m\u001b[0;36m5\u001b[0m\u001b[0;34m)\u001b[0m\u001b[0;34m,\u001b[0m\u001b[0mmodel\u001b[0m\u001b[0;34m.\u001b[0m\u001b[0mdata\u001b[0m\u001b[0;34m)\u001b[0m\u001b[0;34m\u001b[0m\u001b[0m\n\u001b[0;32m---> 19\u001b[0;31m \u001b[0mplt\u001b[0m\u001b[0;34m.\u001b[0m\u001b[0mimshow\u001b[0m\u001b[0;34m(\u001b[0m\u001b[0maverages_array\u001b[0m\u001b[0;34m)\u001b[0m\u001b[0;34m\u001b[0m\u001b[0m\n\u001b[0m",
      "\u001b[0;32m/usr/local/lib/python2.7/dist-packages/matplotlib/pyplot.pyc\u001b[0m in \u001b[0;36mimshow\u001b[0;34m(X, cmap, norm, aspect, interpolation, alpha, vmin, vmax, origin, extent, shape, filternorm, filterrad, imlim, resample, url, hold, data, **kwargs)\u001b[0m\n\u001b[1;32m   3208\u001b[0m                         \u001b[0mfilternorm\u001b[0m\u001b[0;34m=\u001b[0m\u001b[0mfilternorm\u001b[0m\u001b[0;34m,\u001b[0m \u001b[0mfilterrad\u001b[0m\u001b[0;34m=\u001b[0m\u001b[0mfilterrad\u001b[0m\u001b[0;34m,\u001b[0m\u001b[0;34m\u001b[0m\u001b[0m\n\u001b[1;32m   3209\u001b[0m                         \u001b[0mimlim\u001b[0m\u001b[0;34m=\u001b[0m\u001b[0mimlim\u001b[0m\u001b[0;34m,\u001b[0m \u001b[0mresample\u001b[0m\u001b[0;34m=\u001b[0m\u001b[0mresample\u001b[0m\u001b[0;34m,\u001b[0m \u001b[0murl\u001b[0m\u001b[0;34m=\u001b[0m\u001b[0murl\u001b[0m\u001b[0;34m,\u001b[0m \u001b[0mdata\u001b[0m\u001b[0;34m=\u001b[0m\u001b[0mdata\u001b[0m\u001b[0;34m,\u001b[0m\u001b[0;34m\u001b[0m\u001b[0m\n\u001b[0;32m-> 3210\u001b[0;31m                         **kwargs)\n\u001b[0m\u001b[1;32m   3211\u001b[0m     \u001b[0;32mfinally\u001b[0m\u001b[0;34m:\u001b[0m\u001b[0;34m\u001b[0m\u001b[0m\n\u001b[1;32m   3212\u001b[0m         \u001b[0max\u001b[0m\u001b[0;34m.\u001b[0m\u001b[0m_hold\u001b[0m \u001b[0;34m=\u001b[0m \u001b[0mwashold\u001b[0m\u001b[0;34m\u001b[0m\u001b[0m\n",
      "\u001b[0;32m/usr/local/lib/python2.7/dist-packages/matplotlib/__init__.pyc\u001b[0m in \u001b[0;36minner\u001b[0;34m(ax, *args, **kwargs)\u001b[0m\n\u001b[1;32m   1868\u001b[0m                         \u001b[0;34m\"the Matplotlib list!)\"\u001b[0m \u001b[0;34m%\u001b[0m \u001b[0;34m(\u001b[0m\u001b[0mlabel_namer\u001b[0m\u001b[0;34m,\u001b[0m \u001b[0mfunc\u001b[0m\u001b[0;34m.\u001b[0m\u001b[0m__name__\u001b[0m\u001b[0;34m)\u001b[0m\u001b[0;34m,\u001b[0m\u001b[0;34m\u001b[0m\u001b[0m\n\u001b[1;32m   1869\u001b[0m                         RuntimeWarning, stacklevel=2)\n\u001b[0;32m-> 1870\u001b[0;31m             \u001b[0;32mreturn\u001b[0m \u001b[0mfunc\u001b[0m\u001b[0;34m(\u001b[0m\u001b[0max\u001b[0m\u001b[0;34m,\u001b[0m \u001b[0;34m*\u001b[0m\u001b[0margs\u001b[0m\u001b[0;34m,\u001b[0m \u001b[0;34m**\u001b[0m\u001b[0mkwargs\u001b[0m\u001b[0;34m)\u001b[0m\u001b[0;34m\u001b[0m\u001b[0m\n\u001b[0m\u001b[1;32m   1871\u001b[0m \u001b[0;34m\u001b[0m\u001b[0m\n\u001b[1;32m   1872\u001b[0m         inner.__doc__ = _add_data_doc(inner.__doc__,\n",
      "\u001b[0;32m/usr/local/lib/python2.7/dist-packages/matplotlib/axes/_axes.pyc\u001b[0m in \u001b[0;36mimshow\u001b[0;34m(self, X, cmap, norm, aspect, interpolation, alpha, vmin, vmax, origin, extent, shape, filternorm, filterrad, imlim, resample, url, **kwargs)\u001b[0m\n\u001b[1;32m   5499\u001b[0m                               resample=resample, **kwargs)\n\u001b[1;32m   5500\u001b[0m \u001b[0;34m\u001b[0m\u001b[0m\n\u001b[0;32m-> 5501\u001b[0;31m         \u001b[0mim\u001b[0m\u001b[0;34m.\u001b[0m\u001b[0mset_data\u001b[0m\u001b[0;34m(\u001b[0m\u001b[0mX\u001b[0m\u001b[0;34m)\u001b[0m\u001b[0;34m\u001b[0m\u001b[0m\n\u001b[0m\u001b[1;32m   5502\u001b[0m         \u001b[0mim\u001b[0m\u001b[0;34m.\u001b[0m\u001b[0mset_alpha\u001b[0m\u001b[0;34m(\u001b[0m\u001b[0malpha\u001b[0m\u001b[0;34m)\u001b[0m\u001b[0;34m\u001b[0m\u001b[0m\n\u001b[1;32m   5503\u001b[0m         \u001b[0;32mif\u001b[0m \u001b[0mim\u001b[0m\u001b[0;34m.\u001b[0m\u001b[0mget_clip_path\u001b[0m\u001b[0;34m(\u001b[0m\u001b[0;34m)\u001b[0m \u001b[0;32mis\u001b[0m \u001b[0mNone\u001b[0m\u001b[0;34m:\u001b[0m\u001b[0;34m\u001b[0m\u001b[0m\n",
      "\u001b[0;32m/usr/local/lib/python2.7/dist-packages/matplotlib/image.pyc\u001b[0m in \u001b[0;36mset_data\u001b[0;34m(self, A)\u001b[0m\n\u001b[1;32m    640\u001b[0m         if (self._A.dtype != np.uint8 and\n\u001b[1;32m    641\u001b[0m                 not np.can_cast(self._A.dtype, float, \"same_kind\")):\n\u001b[0;32m--> 642\u001b[0;31m             \u001b[0;32mraise\u001b[0m \u001b[0mTypeError\u001b[0m\u001b[0;34m(\u001b[0m\u001b[0;34m\"Image data cannot be converted to float\"\u001b[0m\u001b[0;34m)\u001b[0m\u001b[0;34m\u001b[0m\u001b[0m\n\u001b[0m\u001b[1;32m    643\u001b[0m \u001b[0;34m\u001b[0m\u001b[0m\n\u001b[1;32m    644\u001b[0m         if not (self._A.ndim == 2\n",
      "\u001b[0;31mTypeError\u001b[0m: Image data cannot be converted to float"
     ]
    },
    {
     "data": {
      "image/png": "[encoded data removed]",
      "text/plain": "<Figure size 504x504 with 1 Axes>"
     },
     "metadata": {
      "needs_background": "light"
     }
    }
   ],
   "source": [
    "from boolean2 import util\n",
    "\n",
    "coll = util.Collector()\n",
    "\n",
    "for i in range(10):\n",
    "    model = boolean2.Model(text=EGF_Off_model_definition, mode='async')\n",
    "    model.initialize()\n",
    "    model.iterate( steps=10 )\n",
    "    \n",
    "    # takes all nodes\n",
    "    nodes = model.nodes\n",
    "    coll.collect( states=model.states, nodes=nodes )\n",
    "    \n",
    "avgs = coll.get_averages( normalize=True )\n",
    "averages_array = np.array(avgs)\n",
    "\n",
    "plt.figure(figsize=(7,7))\n",
    "plt.yticks(range(0,5),model.data)\n",
    "plt.imshow(averages_array)"
   ]
  },
  {
   "cell_type": "code",
   "execution_count": 0,
   "id": "3534cf",
   "metadata": {
    "collapsed": false
   },
   "outputs": [
   ],
   "source": [
   ]
  }
 ],
 "metadata": {
  "kernelspec": {
   "argv": [
    "python2",
    "-m",
    "ipykernel_launcher",
    "-f",
    "{connection_file}"
   ],
   "display_name": "Python 2",
   "env": {
   },
   "language": "python",
   "metadata": {
    "cocalc": {
     "description": "Python 2 programming language",
     "priority": 0,
     "url": "https://www.python.org/"
    }
   },
   "name": "python2",
   "resource_dir": "/ext/jupyter/kernels/python2"
  },
  "language_info": {
   "codemirror_mode": {
    "name": "ipython",
    "version": 2
   },
   "file_extension": ".py",
   "mimetype": "text/x-python",
   "name": "python",
   "nbconvert_exporter": "python",
   "pygments_lexer": "ipython2",
   "version": "2.7.18"
  },
  "latex_envs": {
   "LaTeX_envs_menu_present": true,
   "autoclose": false,
   "autocomplete": true,
   "bibliofile": "biblio.bib",
   "cite_by": "apalike",
   "current_citInitial": 1,
   "eqLabelWithNumbers": true,
   "eqNumInitial": 1,
   "hotkeys": {
    "equation": "Ctrl-E",
    "itemize": "Ctrl-I"
   },
   "labels_anchors": false,
   "latex_user_defs": false,
   "report_style_numbering": false,
   "user_envs_cfg": false
  }
 },
 "nbformat": 4,
 "nbformat_minor": 4
}
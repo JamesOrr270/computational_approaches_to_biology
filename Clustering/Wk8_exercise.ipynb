{
 "cells": [
  {
   "cell_type": "markdown",
   "id": "8d1464",
   "metadata": {
    "collapsed": false
   },
   "source": [
    "# Clustering single-cell expression data \n",
    "\n",
    "In this lab you will use k-means and hierarchical clustering on some single-cell gene expression data from Guo et al. \"Resolution of Cell Fate Decisions Revealed by Single-Cell Gene Expression Analysis from Zygote to Blastocyst\" Developmental Cell, Volume 18, Issue 4, 20 April 2010, Pages 675-685, available from http://dx.doi.org/10.1016/j.devcel.2010.02.012. \n"
   ]
  },
  {
   "cell_type": "code",
   "execution_count": 1,
   "id": "55393c",
   "metadata": {
    "collapsed": false
   },
   "outputs": [],
   "source": [
    "import matplotlib.pyplot as plt\n",
    "import numpy as np\n",
    "import pandas as pd\n",
    "import visualisation # Python functions from the PCA lab\n",
    "import clustering # Python functions for this lab\n",
    "import plotly\n",
    "import plotly.express as px\n",
    "import plotly.graph_objs as go\n",
    "from sklearn.metrics import adjusted_rand_score"
   ]
  },
  {
   "cell_type": "markdown",
   "id": "14f1d7",
   "metadata": {
    "collapsed": false
   },
   "source": [
    "## The complete data"
   ]
  },
  {
   "cell_type": "code",
   "execution_count": 2,
   "id": "1d7d62",
   "metadata": {
    "collapsed": false
   },
   "outputs": [],
   "source": [
    "GuoDataAll = pd.read_csv('GuoData.csv', index_col=[0])\n",
    "labelsAll = GuoDataAll.index "
   ]
  },
  {
   "cell_type": "markdown",
   "id": "cd25f6",
   "metadata": {
    "collapsed": false
   },
   "source": [
    "## For this exercise you only need a subset of the data"
   ]
  },
  {
   "cell_type": "code",
   "execution_count": 3,
   "id": "a97691",
   "metadata": {
    "collapsed": false
   },
   "outputs": [
    {
     "name": "stdout",
     "output_type": "stream",
     "text": [
      "Cells: 268, Genes: 48\n"
     ]
    },
    {
     "data": {
      "text/html": [
       "<div>\n",
       "<style scoped>\n",
       "    .dataframe tbody tr th:only-of-type {\n",
       "        vertical-align: middle;\n",
       "    }\n",
       "\n",
       "    .dataframe tbody tr th {\n",
       "        vertical-align: top;\n",
       "    }\n",
       "\n",
       "    .dataframe thead th {\n",
       "        text-align: right;\n",
       "    }\n",
       "</style>\n",
       "<table border=\"1\" class=\"dataframe\">\n",
       "  <thead>\n",
       "    <tr style=\"text-align: right;\">\n",
       "      <th></th>\n",
       "      <th>Actb</th>\n",
       "      <th>Ahcy</th>\n",
       "      <th>Aqp3</th>\n",
       "      <th>Atp12a</th>\n",
       "      <th>Bmp4</th>\n",
       "      <th>Cdx2</th>\n",
       "      <th>Creb312</th>\n",
       "      <th>Cebpa</th>\n",
       "      <th>Dab2</th>\n",
       "      <th>DppaI</th>\n",
       "      <th>...</th>\n",
       "      <th>Sox2</th>\n",
       "      <th>Sall4</th>\n",
       "      <th>Sox17</th>\n",
       "      <th>Snail</th>\n",
       "      <th>Sox13</th>\n",
       "      <th>Tcfap2a</th>\n",
       "      <th>Tcfap2c</th>\n",
       "      <th>Tcf23</th>\n",
       "      <th>Utf1</th>\n",
       "      <th>Tspan8</th>\n",
       "    </tr>\n",
       "  </thead>\n",
       "  <tbody>\n",
       "    <tr>\n",
       "      <th>32 TE</th>\n",
       "      <td>0.319717</td>\n",
       "      <td>-0.255446</td>\n",
       "      <td>0.089953</td>\n",
       "      <td>0.241663</td>\n",
       "      <td>-0.741240</td>\n",
       "      <td>0.815178</td>\n",
       "      <td>-1.094123</td>\n",
       "      <td>0.232716</td>\n",
       "      <td>0.626778</td>\n",
       "      <td>1.323362</td>\n",
       "      <td>...</td>\n",
       "      <td>-1.384186</td>\n",
       "      <td>-0.338402</td>\n",
       "      <td>-0.951007</td>\n",
       "      <td>0.002382</td>\n",
       "      <td>0.314471</td>\n",
       "      <td>1.886886</td>\n",
       "      <td>-0.475611</td>\n",
       "      <td>-1.141535</td>\n",
       "      <td>-0.533710</td>\n",
       "      <td>0.469163</td>\n",
       "    </tr>\n",
       "    <tr>\n",
       "      <th>32 TE</th>\n",
       "      <td>0.584569</td>\n",
       "      <td>-0.172843</td>\n",
       "      <td>0.077378</td>\n",
       "      <td>1.446409</td>\n",
       "      <td>-0.638402</td>\n",
       "      <td>0.533226</td>\n",
       "      <td>-1.003183</td>\n",
       "      <td>0.400313</td>\n",
       "      <td>0.760784</td>\n",
       "      <td>1.237451</td>\n",
       "      <td>...</td>\n",
       "      <td>-1.308297</td>\n",
       "      <td>-0.650384</td>\n",
       "      <td>-0.397902</td>\n",
       "      <td>-1.108408</td>\n",
       "      <td>0.382266</td>\n",
       "      <td>1.282107</td>\n",
       "      <td>-0.216919</td>\n",
       "      <td>-1.058685</td>\n",
       "      <td>-1.463726</td>\n",
       "      <td>0.673984</td>\n",
       "    </tr>\n",
       "    <tr>\n",
       "      <th>32 TE</th>\n",
       "      <td>0.260861</td>\n",
       "      <td>-0.085078</td>\n",
       "      <td>0.237703</td>\n",
       "      <td>1.996922</td>\n",
       "      <td>-0.666771</td>\n",
       "      <td>0.733321</td>\n",
       "      <td>-1.028270</td>\n",
       "      <td>0.820773</td>\n",
       "      <td>0.861289</td>\n",
       "      <td>1.435306</td>\n",
       "      <td>...</td>\n",
       "      <td>-0.007710</td>\n",
       "      <td>-0.460482</td>\n",
       "      <td>-0.577543</td>\n",
       "      <td>-1.125080</td>\n",
       "      <td>0.123999</td>\n",
       "      <td>1.497058</td>\n",
       "      <td>-0.192514</td>\n",
       "      <td>-1.081540</td>\n",
       "      <td>-1.486409</td>\n",
       "      <td>0.987239</td>\n",
       "    </tr>\n",
       "    <tr>\n",
       "      <th>32 TE</th>\n",
       "      <td>0.834706</td>\n",
       "      <td>-0.002475</td>\n",
       "      <td>0.209410</td>\n",
       "      <td>1.107325</td>\n",
       "      <td>-0.468186</td>\n",
       "      <td>0.605988</td>\n",
       "      <td>0.357778</td>\n",
       "      <td>0.394432</td>\n",
       "      <td>0.730633</td>\n",
       "      <td>1.216624</td>\n",
       "      <td>...</td>\n",
       "      <td>-1.182687</td>\n",
       "      <td>-0.424310</td>\n",
       "      <td>0.334845</td>\n",
       "      <td>-1.008374</td>\n",
       "      <td>0.408093</td>\n",
       "      <td>1.078085</td>\n",
       "      <td>-0.236443</td>\n",
       "      <td>0.049790</td>\n",
       "      <td>-0.326725</td>\n",
       "      <td>0.833624</td>\n",
       "    </tr>\n",
       "    <tr>\n",
       "      <th>32 TE</th>\n",
       "      <td>0.305003</td>\n",
       "      <td>0.167893</td>\n",
       "      <td>0.360303</td>\n",
       "      <td>1.414495</td>\n",
       "      <td>-0.496555</td>\n",
       "      <td>0.546869</td>\n",
       "      <td>-0.877749</td>\n",
       "      <td>0.135687</td>\n",
       "      <td>0.516223</td>\n",
       "      <td>1.284312</td>\n",
       "      <td>...</td>\n",
       "      <td>-0.062664</td>\n",
       "      <td>-0.609691</td>\n",
       "      <td>-0.043347</td>\n",
       "      <td>-1.025047</td>\n",
       "      <td>0.043291</td>\n",
       "      <td>0.593533</td>\n",
       "      <td>-0.504897</td>\n",
       "      <td>-0.944409</td>\n",
       "      <td>-1.350309</td>\n",
       "      <td>0.710128</td>\n",
       "    </tr>\n",
       "  </tbody>\n",
       "</table>\n",
       "<p>5 rows × 48 columns</p>\n",
       "</div>"
      ],
      "text/plain": [
       "           Actb      Ahcy      Aqp3    Atp12a      Bmp4      Cdx2   Creb312  \\\n",
       "32 TE  0.319717 -0.255446  0.089953  0.241663 -0.741240  0.815178 -1.094123   \n",
       "32 TE  0.584569 -0.172843  0.077378  1.446409 -0.638402  0.533226 -1.003183   \n",
       "32 TE  0.260861 -0.085078  0.237703  1.996922 -0.666771  0.733321 -1.028270   \n",
       "32 TE  0.834706 -0.002475  0.209410  1.107325 -0.468186  0.605988  0.357778   \n",
       "32 TE  0.305003  0.167893  0.360303  1.414495 -0.496555  0.546869 -0.877749   \n",
       "\n",
       "          Cebpa      Dab2     DppaI  ...      Sox2     Sall4     Sox17  \\\n",
       "32 TE  0.232716  0.626778  1.323362  ... -1.384186 -0.338402 -0.951007   \n",
       "32 TE  0.400313  0.760784  1.237451  ... -1.308297 -0.650384 -0.397902   \n",
       "32 TE  0.820773  0.861289  1.435306  ... -0.007710 -0.460482 -0.577543   \n",
       "32 TE  0.394432  0.730633  1.216624  ... -1.182687 -0.424310  0.334845   \n",
       "32 TE  0.135687  0.516223  1.284312  ... -0.062664 -0.609691 -0.043347   \n",
       "\n",
       "          Snail     Sox13   Tcfap2a   Tcfap2c     Tcf23      Utf1    Tspan8  \n",
       "32 TE  0.002382  0.314471  1.886886 -0.475611 -1.141535 -0.533710  0.469163  \n",
       "32 TE -1.108408  0.382266  1.282107 -0.216919 -1.058685 -1.463726  0.673984  \n",
       "32 TE -1.125080  0.123999  1.497058 -0.192514 -1.081540 -1.486409  0.987239  \n",
       "32 TE -1.008374  0.408093  1.078085 -0.236443  0.049790 -0.326725  0.833624  \n",
       "32 TE -1.025047  0.043291  0.593533 -0.504897 -0.944409 -1.350309  0.710128  \n",
       "\n",
       "[5 rows x 48 columns]"
      ]
     },
     "execution_count": 3,
     "metadata": {},
     "output_type": "execute_result"
    }
   ],
   "source": [
    "frames = [GuoDataAll.iloc[labelsAll=='32 TE',:],GuoDataAll.iloc[labelsAll=='32 ICM',:],\n",
    "          GuoDataAll.iloc[labelsAll=='64 TE',:],GuoDataAll.iloc[labelsAll=='64 EPI',:],\n",
    "          GuoDataAll.iloc[labelsAll=='64 PE',:]]\n",
    "data = pd.concat(frames)\n",
    "labels = data.index\n",
    "N, D = data.shape\n",
    "print('Cells: %s, Genes: %s'%(N, D))\n",
    "data.head()"
   ]
  },
  {
   "cell_type": "code",
   "execution_count": 4,
   "id": "ae8d47",
   "metadata": {
    "collapsed": false
   },
   "outputs": [],
   "source": [
    "W,scores,fracs = visualisation.do_pca(data)\n",
    "scores = scores/abs(scores).max().max()"
   ]
  },
  {
   "cell_type": "code",
   "execution_count": 5,
   "id": "61ba30",
   "metadata": {
    "collapsed": false
   },
   "outputs": [],
   "source": [
    "from sklearn.cluster import KMeans\n",
    "kmeans = KMeans(n_clusters=5, random_state=0, n_init=10).fit(data.values)"
   ]
  },
  {
   "cell_type": "code",
   "execution_count": 6,
   "id": "a01995",
   "metadata": {
    "collapsed": false
   },
   "outputs": [
    {
     "name": "stdout",
     "output_type": "stream",
     "text": [
      "[0 0 0 0 0 0 0 0 0 0 0 0 0 0 0 0 0 0 0 0 0 0 0 0 0 0 0 0 0 0 0 0 0 0 0 0 0\n",
      " 0 0 0 0 0 0 0 0 0 0 0 0 0 0 0 0 1 1 1 0 0 1 0 1 1 1 1 1 2 2 1 1 2 1 1 2 1\n",
      " 1 1 1 1 1 1 1 1 1 1 1 1 2 2 1 1 1 1 2 1 1 1 1 1 1 1 1 1 1 1 1 4 0 0 0 4 4\n",
      " 4 4 4 4 4 4 4 4 4 4 0 4 4 4 4 4 4 4 4 4 4 4 4 4 4 4 4 4 4 4 4 4 4 0 4 4 4\n",
      " 4 4 0 4 4 4 4 4 4 4 4 0 4 4 4 4 4 4 4 4 4 4 4 4 4 4 4 4 4 4 4 4 4 4 4 4 4\n",
      " 4 4 4 4 4 4 4 4 4 4 4 4 4 4 0 4 4 4 4 4 3 3 3 3 3 3 3 1 3 3 3 3 3 3 3 3 3\n",
      " 3 3 2 2 2 2 2 2 2 2 2 2 2 2 2 2 2 2 2 2 2 2 2 2 2 2 2 2 2 2 2 2 2 2 2 2 2\n",
      " 2 2 2 2 2 2 2 2 2]\n"
     ]
    }
   ],
   "source": [
    "kmeanslabels = kmeans.labels_\n",
    "\n",
    "print(kmeanslabels)"
   ]
  },
  {
   "cell_type": "code",
   "execution_count": 7,
   "id": "d8f693",
   "metadata": {
    "collapsed": false
   },
   "outputs": [
    {
     "data": {
      "application/vnd.plotly.v1+json": {
       "config": {
        "plotlyServerURL": "https://plot.ly"
       },
       "data": [
        {
         "hovertemplate": "index=32 TE<br>symbol=0<br>PC1=%{x}<br>PC2=%{y}<extra></extra>",
         "legendgroup": "32 TE, 0",
         "marker": {
          "color": "#636efa",
          "line": {
           "width": 1
          },
          "size": 8,
          "symbol": "circle"
         },
         "mode": "markers",
         "name": "32 TE, 0",
         "orientation": "v",
         "showlegend": true,
         "type": "scatter",
         "x": {
          "bdata": "5lJYkHpL3z/5vN7OD4fjP6qnpJIS6OQ/7ymWGrs/2D+0AEi/QW/bP2CwpX3c1t4/19YwBX5n2z96c0DSlOjYP7K63yN/yMk/lwhgCBiW1D9aOS3/CzLOP/+8/5kuy66/2EbV7hflyT9SqKxu+83cPwBTjfEGudc/T866uNE+4j/pFJCGR/bRP88u47ysw9s/fTAu00i62z80NUu/GxrdP9S7wWQ66tU/aP1HPi1J1z+n+uUlZETRP01425M1190/tP4q1Lic1D/ND+jFunTRP7Y5hBkMzdY/2JC8VMiQ1z+0HprfU03hP2o3SjYHHtg/T6UD2Sz+3D+pFUFAP+zYPw3RNDjk/s0/6Nfc03XG0j8y+AY2ADPcP5zVtbAh+9s/Go3WMpuK2j+mWjT1zS7RP5x9hZg/Utc/hqGDy2zHyT/VTOdeSSfJP0X8FRgth9c/Diu7d4a21z8WT+Mb15XXPzXyBTTi7cU/KXqM/hzF4D/FiMGfZjfRP4WhU67k19s/26n1Ouc+1j9575GWb1HjPw0YByFByNM/1YahndO+yD/I3/NVEVTeP4QVn/WzpeA/24W08C5R3T9BXFopXRzbPw==",
          "dtype": "f8"
         },
         "xaxis": "x",
         "y": {
          "bdata": "Hf4YQeK+hL+nMHro0Y6Wv3yBlgTse7G/dF2tTp68sL+RlzyW+fu0vx9PpJZL6rO/5kuor10stj+ZfKGB3lydv5HLrEUFpKq/LcCOWRrKur+2hTpG+y7Dv5GuHPtbk82/thYgcC98ur+PxuhisaOiP4L3wNddIMC/v6RBiKfjfT+2ZT6PdYBevytflmo7d7s/uGK9gd9XsL+f1lhAjCCFv/8YzvMrbmQ/tS7gcH78qz98c6iaeRaovz5zZDLay6W/PDdXeqsItr8RIWIu9zOZPyjxpWsdYq+/w1jAcWAus78yHQnucsfJv6a7HGnmY20/D6uA0baloT+KYdXA0AizPyMXOItwcLa/WH8cyriw1b/lAMlqfDOpv+r0598rZJW/ITSY/Mkdhr+Zlqwn3cfMv6qSqfAae7K/+oEDvwHRzb87BX6VZ3LJv5f4vTBHaLy/qlWkawC6sb/664FwsuvDv7Gkwk0nT7C/ZaW1PH0Vab/Anjv/eS6Nv73h/T6Jaoc/hecst126vr8Bl4zl0rWdvzQPKi9Fea6/WhIKVXjKrL/bZwX17L+fP9UschLUebI/abyTj/sCrT/McxUwnPmuvw==",
          "dtype": "f8"
         },
         "yaxis": "y"
        },
        {
         "hovertemplate": "index=32 TE<br>symbol=1<br>PC1=%{x}<br>PC2=%{y}<extra></extra>",
         "legendgroup": "32 TE, 1",
         "marker": {
          "color": "#636efa",
          "line": {
           "width": 1
          },
          "size": 8,
          "symbol": "diamond"
         },
         "mode": "markers",
         "name": "32 TE, 1",
         "orientation": "v",
         "showlegend": true,
         "type": "scatter",
         "x": {
          "bdata": "IuViGQCd4b8tapu9BNriv6oIkczE7uG/yqijPL1h4r8=",
          "dtype": "f8"
         },
         "xaxis": "x",
         "y": {
          "bdata": "AG8n7K823r/a55bmyk3Ev753WMC6i8S/XscQ+uHr2r8=",
          "dtype": "f8"
         },
         "yaxis": "y"
        },
        {
         "hovertemplate": "index=32 ICM<br>symbol=0<br>PC1=%{x}<br>PC2=%{y}<extra></extra>",
         "legendgroup": "32 ICM, 0",
         "marker": {
          "color": "#EF553B",
          "line": {
           "width": 1
          },
          "size": 8,
          "symbol": "circle"
         },
         "mode": "markers",
         "name": "32 ICM, 0",
         "orientation": "v",
         "showlegend": true,
         "type": "scatter",
         "x": {
          "bdata": "YIaTRDuq3z/CZtceKaTWP5o6ksP28a2/",
          "dtype": "f8"
         },
         "xaxis": "x",
         "y": {
          "bdata": "r1Sxpp4FrT/RMyof7vmGv6xbriHlgra/",
          "dtype": "f8"
         },
         "yaxis": "y"
        },
        {
         "hovertemplate": "index=32 ICM<br>symbol=1<br>PC1=%{x}<br>PC2=%{y}<extra></extra>",
         "legendgroup": "32 ICM, 1",
         "marker": {
          "color": "#EF553B",
          "line": {
           "width": 1
          },
          "size": 8,
          "symbol": "diamond"
         },
         "mode": "markers",
         "name": "32 ICM, 1",
         "orientation": "v",
         "showlegend": true,
         "type": "scatter",
         "x": {
          "bdata": "AlkZ7hFk67/3j38VlFTmvxYJHNsQhea//NdMjuRo6b+7t7gESpfpvxiUImr9Aeu/eegzE0gK5b+1pIYN9aXjv6NnFDpfsea/GOR/bVXC6r+rutDcSe3ivz3Y2YLUt+C/7wKH+ut8578mq6Nbzbjlv05BF+WPz+C/vItvCEEh578791Ck9I7pvyp0nZY4KeO/zBss0VXp5r/v2GkH0Ejmv73oNNFaA+i/jvdRwPFb6L8jigSJVPXmv+T3KGhh/ue/CT+fyY0f479b2NP77ErpvzDKwjeW5ea/z6BXgyx36b9ZUi7CCRvtvwSjD+pu6ua/kHtDaqQA4L83SlR/SPvSv7cn37//Ney/CRYg1q584r8EJ0n0WV3mv0gQUMqwmui/E3shFLvg5L/ObHiacR/fvw==",
          "dtype": "f8"
         },
         "xaxis": "x",
         "y": {
          "bdata": "cZX7MKz5yL9/B6Ko4dvhv+mpv+tDrHm/hDTaVGDWwb9jKJYEvRrcv2cmNONBbsq/wI5LAudXz78/YMDhyDrfv2OllmaRq6+/w+jXuu1hyL84/sf3gljUv/UI9z0JBNG/7GtPi+smwr/ov04GWWHKvzIy7XX45sa/lqHoskB6378pQSnVLsDCvwRc8czMLrG/o5ttNuod2r8BFE9ijtncv320zkBnHsu/WjoRnj7Ky79nuEDZgJfcv0A785R9zeG/8DnQJMjm0L+zTUN5biHQv0Fsb5n72s+/bGO545QdwL8xsUp47NvYv6VOcFk7ed2/KzCpmEEawb/uPRg/9qfav4PmGFQR6NG/WaFk9a6Dkb+QPs4rACPgv4xNw+xkX9q/J9jdhXjz1L9Of/fBOqnUvw==",
          "dtype": "f8"
         },
         "yaxis": "y"
        },
        {
         "hovertemplate": "index=32 ICM<br>symbol=2<br>PC1=%{x}<br>PC2=%{y}<extra></extra>",
         "legendgroup": "32 ICM, 2",
         "marker": {
          "color": "#EF553B",
          "line": {
           "width": 1
          },
          "size": 8,
          "symbol": "square"
         },
         "mode": "markers",
         "name": "32 ICM, 2",
         "orientation": "v",
         "showlegend": true,
         "type": "scatter",
         "x": {
          "bdata": "xir8VrnC579JI1/C8jLivwrHFLakvue/k/S3IMho6b+aH9+MO0nov9eZ5+UDCue/R+LRrZ5Z5b8=",
          "dtype": "f8"
         },
         "xaxis": "x",
         "y": {
          "bdata": "35piBgox2T/5NvnXSHvKPxy0M2VYGMo/1Qnk8bP6wT87L2XsQhTSP1xUOcsIbMg/vyoyUsx1zz8=",
          "dtype": "f8"
         },
         "yaxis": "y"
        },
        {
         "hovertemplate": "index=32 ICM<br>symbol=4<br>PC1=%{x}<br>PC2=%{y}<extra></extra>",
         "legendgroup": "32 ICM, 4",
         "marker": {
          "color": "#EF553B",
          "line": {
           "width": 1
          },
          "size": 8,
          "symbol": "x"
         },
         "mode": "markers",
         "name": "32 ICM, 4",
         "orientation": "v",
         "showlegend": true,
         "type": "scatter",
         "x": {
          "bdata": "JwBLQYsg4T8=",
          "dtype": "f8"
         },
         "xaxis": "x",
         "y": {
          "bdata": "Fn5ZzLars78=",
          "dtype": "f8"
         },
         "yaxis": "y"
        },
        {
         "hovertemplate": "index=64 TE<br>symbol=0<br>PC1=%{x}<br>PC2=%{y}<extra></extra>",
         "legendgroup": "64 TE, 0",
         "marker": {
          "color": "#00cc96",
          "line": {
           "width": 1
          },
          "size": 8,
          "symbol": "circle"
         },
         "mode": "markers",
         "name": "64 TE, 0",
         "orientation": "v",
         "showlegend": true,
         "type": "scatter",
         "x": {
          "bdata": "MrlH0qWN2j+IaBQ4PhzbP7rOdVZOd9U/P4BY5hLx1j/UHKEFzmS6Pw==",
          "dtype": "f8"
         },
         "xaxis": "x",
         "y": {
          "bdata": "4SZutPBkp7+0lVo9wHCRP6bSA8a9S4e/8icvAdbKzb/1uZFOyt/Bvw==",
          "dtype": "f8"
         },
         "yaxis": "y"
        },
        {
         "hovertemplate": "index=64 TE<br>symbol=4<br>PC1=%{x}<br>PC2=%{y}<extra></extra>",
         "legendgroup": "64 TE, 4",
         "marker": {
          "color": "#00cc96",
          "line": {
           "width": 1
          },
          "size": 8,
          "symbol": "x"
         },
         "mode": "markers",
         "name": "64 TE, 4",
         "orientation": "v",
         "showlegend": true,
         "type": "scatter",
         "x": {
          "bdata": "zdOxvhxv5T8G4ANjjQ/hP+4Gp176c+E/jsnmQHrg4T99PsYd6Y7fP7F9wrHL2N8/SU0W8wme5T8kVp/O9rTgP7t+w5KgeeE/GtNsftZ04T8DDROJCrTfP7a26Yts1uE/F/nSolSF5j/lzM5ZpRHpPwTWzuz8/+E/qrQ+iC213T/ndO1N4B3mPw4fM/hCgOg/JYDGl1615D9SHJ1EuWHhP26KD5JUj+s/0yOKybno5z+G2zq4/+flP2Yia7r8x+Y/U/tPzQG/4z/HGFbwL4nVP1xzOzOWMNc/vi+jDXpY6D+neBjZ1/XmP2+usSlChek/HzUYI89d6z9uiBGGJhXoP9/comh67uE/tX5AF0DU4j/6CfVBR3HnP/lEBBmMFuk/bLzuJwDE4z/SaHvvVp7mPzt9anw1fuI//nwDktnt4z+00D3sAtTsP0p7Qwh1Suc/iojOWFR85D/81enBTTPmPzW8l4fqiuM/Sk4aj9bn5D/fM39n6PrnP3pUz6lHWOE/Q6cnGNwn3j84IaXLblTgP4cyUkeBa+I/9WH+4DXw3D9LljlsCjrhPzBNjcPMgd8/j3+ilg+84T9EpvHWfJjdP/27uYo/G+E/g72yNrMi5T+TW4sB2QnkP7AD7Iu7eNo/V73Wpup81z/dJUqUIxnXP3CLd7xz3eE/JJG+Mmiy5z+hTItVmXDkPxBP40VSsOI/pVvvcx+K4T/Ey9eAkOvfP5C/IwvXN9c/FmLDcPvY3T+xE1LJ9uDgP3a2Q3IksOc/sq8J5IUW5D/mwI28OUjfP7Sza+bIxuU/Qf+tW/C+5j+xz+jCqNjkPzHT8K1Zy9M/h73HZHp/3z9gE5OcmEHhP49RNs0hUuE/BxfN7Y0q4j+82hKMOnnnPz77amHkZuM/yMeUmsCx4z82d2Gy7g3IP955av2AE+I/47gmaPz34z9A65QNhe3hP3YVrxXBIeM/uusd1YxD4T8=",
          "dtype": "f8"
         },
         "xaxis": "x",
         "y": {
          "bdata": "+4y039sooT+E/odbEX+wv7EG/O4zUKY/+FNJD7VXr79F/qPwqcysPzByxXW1mr4/000Ji74eqr8bv8vm9dajP+hHagJGybQ/2SDbNzyIoD+ZYbTEd7+2vzICCNMmicM/6bZFbx9lYr/ryYPANQJWP8fmwVz99Jo/VaMLmsHgwT+9kitBArapvwIP031pNri/hDftLYhorj+vgqZGgMbGv1OvYU/t3KQ/bu7jQ4QYgT+jYhunaTylv5z5V/rNaLk/NVgdsg+NvL875d+f+TqPv1l+L/N2lKY/1p6PZj6WeD9VqlL4/GW4P8m51bd3bqE/jCLAliWssz+mb34MBLHDP8kT9XEf6bg/r4f3FHmDoz/xcVybZW6hP8riTlllDlq/Q+q/nzJboj98Lwc8ck+xP542wxS0QaI/NB3jA8Vxp78pI/i2L+nBv4bybztpb7Q/ngn6Ml0+iT9F1vTzVZWUv3DGC7QUfqa/XGNjmrUSsj8PK9Jg+V2Uv+GHf2KA25e/zsQ/9ePTrj83G+yKLxS2v971UR7N27O/2g8GEVEAg7/SkD4TkCuXv5TZnoWSdHq/Gf39jheBpT/liCQQigiavwMNHwSCoaW/sL3ps4beWL+8E1uz+8+Uv7rdsddwcqg/X4GV7LCfyz8ova7795iPP6muvQfE9sc/xJ+HCNY2q7+1ny6OWTaWv/VSM/vm/MI/I2oRP8rdwD805qBFVVemP333T20IJqO/kGQ7sG8tlT9MLl6cQC+yP86azjCcMVA/1/kc05qjTz/ekSTBOwmbP9FwFIIc1qG/ejNQDTLumj/e0aq6J7Snv53cnhkGqs6/Q7SrUUa4sz+DInLz/VCqP7LtPo0d1bQ/iBVJB8dKx79WdsCWFfSjP3U+8ywCVaA/xh72OfozwL+JV6BgVbnFP5Vhei6gxrY/zQSp7V+Kmr/ouV3cNqF6P13HkxaEgLA/NlEbzqjLtj8=",
          "dtype": "f8"
         },
         "yaxis": "y"
        },
        {
         "hovertemplate": "index=64 EPI<br>symbol=1<br>PC1=%{x}<br>PC2=%{y}<extra></extra>",
         "legendgroup": "64 EPI, 1",
         "marker": {
          "color": "#ab63fa",
          "line": {
           "width": 1
          },
          "size": 8,
          "symbol": "diamond"
         },
         "mode": "markers",
         "name": "64 EPI, 1",
         "orientation": "v",
         "showlegend": true,
         "type": "scatter",
         "x": {
          "bdata": "Zr3fRb1Y578=",
          "dtype": "f8"
         },
         "xaxis": "x",
         "y": {
          "bdata": "x4+bdlOLxL8=",
          "dtype": "f8"
         },
         "yaxis": "y"
        },
        {
         "hovertemplate": "index=64 EPI<br>symbol=3<br>PC1=%{x}<br>PC2=%{y}<extra></extra>",
         "legendgroup": "64 EPI, 3",
         "marker": {
          "color": "#ab63fa",
          "line": {
           "width": 1
          },
          "size": 8,
          "symbol": "cross"
         },
         "mode": "markers",
         "name": "64 EPI, 3",
         "orientation": "v",
         "showlegend": true,
         "type": "scatter",
         "x": {
          "bdata": "b2ME1rGY5b8ZQajOTTblvw0116GSM+i/EitCrsU66r+BAUrSs/XnvwAAAAAAAPC/qcb/rSId7L+0fwIwLXTvvxDE6kSUve6/dKBEjgrw5r/SEq8oRIvpv03/T/UCOei/wfRTGBN77L9Dqj7sUiLuv9n2KItEh+a/1PIDpGAW5784aoTfFPrqv7T/NvBVp+y/",
          "dtype": "f8"
         },
         "xaxis": "x",
         "y": {
          "bdata": "Nn0lJAx147+UeMskBKbmvwa/+1w1WN2/v2S9fLJ74r+OznGQ7ofhvwOpTfKlpNu/vwIP/zyV27+yjGkzyp3fv5jvTWG+39i/pb2ztSJz4r/iSB5mbpTjvzm0hV3ND+W/45MV4A1C5b8yqtS/y3Xhv1bNdqnwVOe/f5M0lKFu3r8P0gOGojPgvyRQMDX6AbW/",
          "dtype": "f8"
         },
         "yaxis": "y"
        },
        {
         "hovertemplate": "index=64 PE<br>symbol=2<br>PC1=%{x}<br>PC2=%{y}<extra></extra>",
         "legendgroup": "64 PE, 2",
         "marker": {
          "color": "#FFA15A",
          "line": {
           "width": 1
          },
          "size": 8,
          "symbol": "square"
         },
         "mode": "markers",
         "name": "64 PE, 2",
         "orientation": "v",
         "showlegend": true,
         "type": "scatter",
         "x": {
          "bdata": "ehq7DzDB4b/CteJ+4qPfvxKgKyXUjOS/x6znsg5s5L/qZiV/KS/kv2YjLoPMG+K/HxNPXCR65b85oTpe4q7lv0KjYjfIguW//7XcepUt4b/7FJsqhA7dv9A9p6cPpuW/3ZvEPUya4r+HDdlYbs7kvxJmNGNTdOC/As6Ye4fw3r/G7DblARbev5HHMxJ8XOO/La3aZj575b/Zfr3Ddwzpv9zVUmA6lOm/xi36iwGc6787WOrPJs3mv6Qrf+/X9Om/idk55Z5F578/JxQVeb/kv3DSyagoauG/MC6/hYaO6b9EP7kcf9Hkv/ICZym7Pea/leB2z14t5r/sZm2vsyPmv8H8j6uguOe/ffzHOTIh5L9gpQsBpZPkvz77kZth2+m/2TrZLEtc6L+Vbl2i1JDgv4S4h+Ya+OW//A5Yf4u+6b/SUumrJcPkv/a+AQLHwOC/lOtU6u8S6b/pjfynl/Hivw==",
          "dtype": "f8"
         },
         "xaxis": "x",
         "y": {
          "bdata": "QZAwCmMu4z/BwEFe4UXlP9GEahisaeI/+3Qnz15o4T/piIX5W5zhP/gWk+nUOt8/xds5cm8d1T/uPQ51IdXMP+LBmrYJSts/max+p9ch3D9nan9s98PKPy/Bg4SvPNc/2F3quV0/4D/F/QTn47XbP074QZZwftE/rsZACxJH2D8QVkueEgHZP0GyNxfBbeE/Yy/loZNB5T+ZwU9yuMXUP8ElGyJ6DNA/uyTYpnV+2D8yOdFDyEbfP03dgRA0T9I/eKOlKEvX4D+F7uesmYHdP5eIL9XjheY/YfOUcTgL4D+DYevcoVjoP9fWWD2ODOc/JXgkWkoT4j8Q3JO/iXThP7qjcDvbuuY/cJ3Swq3w4z+wi1reHETjPwSGI7PeguM/6KXQywu04D++fmPDhTXUPzXkvDESWeg/yMjmcXjF4z/dIAKErpzhPxGpjYmFLeM/fG4Cn0zi4T/89VivnW7iPw==",
          "dtype": "f8"
         },
         "yaxis": "y"
        }
       ],
       "layout": {
        "legend": {
         "title": {
          "text": "index, symbol"
         },
         "tracegroupgap": 0
        },
        "margin": {
         "t": 60
        },
        "template": {
         "data": {
          "bar": [
           {
            "error_x": {
             "color": "#2a3f5f"
            },
            "error_y": {
             "color": "#2a3f5f"
            },
            "marker": {
             "line": {
              "color": "#E5ECF6",
              "width": 0.5
             },
             "pattern": {
              "fillmode": "overlay",
              "size": 10,
              "solidity": 0.2
             }
            },
            "type": "bar"
           }
          ],
          "barpolar": [
           {
            "marker": {
             "line": {
              "color": "#E5ECF6",
              "width": 0.5
             },
             "pattern": {
              "fillmode": "overlay",
              "size": 10,
              "solidity": 0.2
             }
            },
            "type": "barpolar"
           }
          ],
          "carpet": [
           {
            "aaxis": {
             "endlinecolor": "#2a3f5f",
             "gridcolor": "white",
             "linecolor": "white",
             "minorgridcolor": "white",
             "startlinecolor": "#2a3f5f"
            },
            "baxis": {
             "endlinecolor": "#2a3f5f",
             "gridcolor": "white",
             "linecolor": "white",
             "minorgridcolor": "white",
             "startlinecolor": "#2a3f5f"
            },
            "type": "carpet"
           }
          ],
          "choropleth": [
           {
            "colorbar": {
             "outlinewidth": 0,
             "ticks": ""
            },
            "type": "choropleth"
           }
          ],
          "contour": [
           {
            "colorbar": {
             "outlinewidth": 0,
             "ticks": ""
            },
            "colorscale": [
             [
              0,
              "#0d0887"
             ],
             [
              0.1111111111111111,
              "#46039f"
             ],
             [
              0.2222222222222222,
              "#7201a8"
             ],
             [
              0.3333333333333333,
              "#9c179e"
             ],
             [
              0.4444444444444444,
              "#bd3786"
             ],
             [
              0.5555555555555556,
              "#d8576b"
             ],
             [
              0.6666666666666666,
              "#ed7953"
             ],
             [
              0.7777777777777778,
              "#fb9f3a"
             ],
             [
              0.8888888888888888,
              "#fdca26"
             ],
             [
              1,
              "#f0f921"
             ]
            ],
            "type": "contour"
           }
          ],
          "contourcarpet": [
           {
            "colorbar": {
             "outlinewidth": 0,
             "ticks": ""
            },
            "type": "contourcarpet"
           }
          ],
          "heatmap": [
           {
            "colorbar": {
             "outlinewidth": 0,
             "ticks": ""
            },
            "colorscale": [
             [
              0,
              "#0d0887"
             ],
             [
              0.1111111111111111,
              "#46039f"
             ],
             [
              0.2222222222222222,
              "#7201a8"
             ],
             [
              0.3333333333333333,
              "#9c179e"
             ],
             [
              0.4444444444444444,
              "#bd3786"
             ],
             [
              0.5555555555555556,
              "#d8576b"
             ],
             [
              0.6666666666666666,
              "#ed7953"
             ],
             [
              0.7777777777777778,
              "#fb9f3a"
             ],
             [
              0.8888888888888888,
              "#fdca26"
             ],
             [
              1,
              "#f0f921"
             ]
            ],
            "type": "heatmap"
           }
          ],
          "histogram": [
           {
            "marker": {
             "pattern": {
              "fillmode": "overlay",
              "size": 10,
              "solidity": 0.2
             }
            },
            "type": "histogram"
           }
          ],
          "histogram2d": [
           {
            "colorbar": {
             "outlinewidth": 0,
             "ticks": ""
            },
            "colorscale": [
             [
              0,
              "#0d0887"
             ],
             [
              0.1111111111111111,
              "#46039f"
             ],
             [
              0.2222222222222222,
              "#7201a8"
             ],
             [
              0.3333333333333333,
              "#9c179e"
             ],
             [
              0.4444444444444444,
              "#bd3786"
             ],
             [
              0.5555555555555556,
              "#d8576b"
             ],
             [
              0.6666666666666666,
              "#ed7953"
             ],
             [
              0.7777777777777778,
              "#fb9f3a"
             ],
             [
              0.8888888888888888,
              "#fdca26"
             ],
             [
              1,
              "#f0f921"
             ]
            ],
            "type": "histogram2d"
           }
          ],
          "histogram2dcontour": [
           {
            "colorbar": {
             "outlinewidth": 0,
             "ticks": ""
            },
            "colorscale": [
             [
              0,
              "#0d0887"
             ],
             [
              0.1111111111111111,
              "#46039f"
             ],
             [
              0.2222222222222222,
              "#7201a8"
             ],
             [
              0.3333333333333333,
              "#9c179e"
             ],
             [
              0.4444444444444444,
              "#bd3786"
             ],
             [
              0.5555555555555556,
              "#d8576b"
             ],
             [
              0.6666666666666666,
              "#ed7953"
             ],
             [
              0.7777777777777778,
              "#fb9f3a"
             ],
             [
              0.8888888888888888,
              "#fdca26"
             ],
             [
              1,
              "#f0f921"
             ]
            ],
            "type": "histogram2dcontour"
           }
          ],
          "mesh3d": [
           {
            "colorbar": {
             "outlinewidth": 0,
             "ticks": ""
            },
            "type": "mesh3d"
           }
          ],
          "parcoords": [
           {
            "line": {
             "colorbar": {
              "outlinewidth": 0,
              "ticks": ""
             }
            },
            "type": "parcoords"
           }
          ],
          "pie": [
           {
            "automargin": true,
            "type": "pie"
           }
          ],
          "scatter": [
           {
            "fillpattern": {
             "fillmode": "overlay",
             "size": 10,
             "solidity": 0.2
            },
            "type": "scatter"
           }
          ],
          "scatter3d": [
           {
            "line": {
             "colorbar": {
              "outlinewidth": 0,
              "ticks": ""
             }
            },
            "marker": {
             "colorbar": {
              "outlinewidth": 0,
              "ticks": ""
             }
            },
            "type": "scatter3d"
           }
          ],
          "scattercarpet": [
           {
            "marker": {
             "colorbar": {
              "outlinewidth": 0,
              "ticks": ""
             }
            },
            "type": "scattercarpet"
           }
          ],
          "scattergeo": [
           {
            "marker": {
             "colorbar": {
              "outlinewidth": 0,
              "ticks": ""
             }
            },
            "type": "scattergeo"
           }
          ],
          "scattergl": [
           {
            "marker": {
             "colorbar": {
              "outlinewidth": 0,
              "ticks": ""
             }
            },
            "type": "scattergl"
           }
          ],
          "scattermap": [
           {
            "marker": {
             "colorbar": {
              "outlinewidth": 0,
              "ticks": ""
             }
            },
            "type": "scattermap"
           }
          ],
          "scattermapbox": [
           {
            "marker": {
             "colorbar": {
              "outlinewidth": 0,
              "ticks": ""
             }
            },
            "type": "scattermapbox"
           }
          ],
          "scatterpolar": [
           {
            "marker": {
             "colorbar": {
              "outlinewidth": 0,
              "ticks": ""
             }
            },
            "type": "scatterpolar"
           }
          ],
          "scatterpolargl": [
           {
            "marker": {
             "colorbar": {
              "outlinewidth": 0,
              "ticks": ""
             }
            },
            "type": "scatterpolargl"
           }
          ],
          "scatterternary": [
           {
            "marker": {
             "colorbar": {
              "outlinewidth": 0,
              "ticks": ""
             }
            },
            "type": "scatterternary"
           }
          ],
          "surface": [
           {
            "colorbar": {
             "outlinewidth": 0,
             "ticks": ""
            },
            "colorscale": [
             [
              0,
              "#0d0887"
             ],
             [
              0.1111111111111111,
              "#46039f"
             ],
             [
              0.2222222222222222,
              "#7201a8"
             ],
             [
              0.3333333333333333,
              "#9c179e"
             ],
             [
              0.4444444444444444,
              "#bd3786"
             ],
             [
              0.5555555555555556,
              "#d8576b"
             ],
             [
              0.6666666666666666,
              "#ed7953"
             ],
             [
              0.7777777777777778,
              "#fb9f3a"
             ],
             [
              0.8888888888888888,
              "#fdca26"
             ],
             [
              1,
              "#f0f921"
             ]
            ],
            "type": "surface"
           }
          ],
          "table": [
           {
            "cells": {
             "fill": {
              "color": "#EBF0F8"
             },
             "line": {
              "color": "white"
             }
            },
            "header": {
             "fill": {
              "color": "#C8D4E3"
             },
             "line": {
              "color": "white"
             }
            },
            "type": "table"
           }
          ]
         },
         "layout": {
          "annotationdefaults": {
           "arrowcolor": "#2a3f5f",
           "arrowhead": 0,
           "arrowwidth": 1
          },
          "autotypenumbers": "strict",
          "coloraxis": {
           "colorbar": {
            "outlinewidth": 0,
            "ticks": ""
           }
          },
          "colorscale": {
           "diverging": [
            [
             0,
             "#8e0152"
            ],
            [
             0.1,
             "#c51b7d"
            ],
            [
             0.2,
             "#de77ae"
            ],
            [
             0.3,
             "#f1b6da"
            ],
            [
             0.4,
             "#fde0ef"
            ],
            [
             0.5,
             "#f7f7f7"
            ],
            [
             0.6,
             "#e6f5d0"
            ],
            [
             0.7,
             "#b8e186"
            ],
            [
             0.8,
             "#7fbc41"
            ],
            [
             0.9,
             "#4d9221"
            ],
            [
             1,
             "#276419"
            ]
           ],
           "sequential": [
            [
             0,
             "#0d0887"
            ],
            [
             0.1111111111111111,
             "#46039f"
            ],
            [
             0.2222222222222222,
             "#7201a8"
            ],
            [
             0.3333333333333333,
             "#9c179e"
            ],
            [
             0.4444444444444444,
             "#bd3786"
            ],
            [
             0.5555555555555556,
             "#d8576b"
            ],
            [
             0.6666666666666666,
             "#ed7953"
            ],
            [
             0.7777777777777778,
             "#fb9f3a"
            ],
            [
             0.8888888888888888,
             "#fdca26"
            ],
            [
             1,
             "#f0f921"
            ]
           ],
           "sequentialminus": [
            [
             0,
             "#0d0887"
            ],
            [
             0.1111111111111111,
             "#46039f"
            ],
            [
             0.2222222222222222,
             "#7201a8"
            ],
            [
             0.3333333333333333,
             "#9c179e"
            ],
            [
             0.4444444444444444,
             "#bd3786"
            ],
            [
             0.5555555555555556,
             "#d8576b"
            ],
            [
             0.6666666666666666,
             "#ed7953"
            ],
            [
             0.7777777777777778,
             "#fb9f3a"
            ],
            [
             0.8888888888888888,
             "#fdca26"
            ],
            [
             1,
             "#f0f921"
            ]
           ]
          },
          "colorway": [
           "#636efa",
           "#EF553B",
           "#00cc96",
           "#ab63fa",
           "#FFA15A",
           "#19d3f3",
           "#FF6692",
           "#B6E880",
           "#FF97FF",
           "#FECB52"
          ],
          "font": {
           "color": "#2a3f5f"
          },
          "geo": {
           "bgcolor": "white",
           "lakecolor": "white",
           "landcolor": "#E5ECF6",
           "showlakes": true,
           "showland": true,
           "subunitcolor": "white"
          },
          "hoverlabel": {
           "align": "left"
          },
          "hovermode": "closest",
          "mapbox": {
           "style": "light"
          },
          "paper_bgcolor": "white",
          "plot_bgcolor": "#E5ECF6",
          "polar": {
           "angularaxis": {
            "gridcolor": "white",
            "linecolor": "white",
            "ticks": ""
           },
           "bgcolor": "#E5ECF6",
           "radialaxis": {
            "gridcolor": "white",
            "linecolor": "white",
            "ticks": ""
           }
          },
          "scene": {
           "xaxis": {
            "backgroundcolor": "#E5ECF6",
            "gridcolor": "white",
            "gridwidth": 2,
            "linecolor": "white",
            "showbackground": true,
            "ticks": "",
            "zerolinecolor": "white"
           },
           "yaxis": {
            "backgroundcolor": "#E5ECF6",
            "gridcolor": "white",
            "gridwidth": 2,
            "linecolor": "white",
            "showbackground": true,
            "ticks": "",
            "zerolinecolor": "white"
           },
           "zaxis": {
            "backgroundcolor": "#E5ECF6",
            "gridcolor": "white",
            "gridwidth": 2,
            "linecolor": "white",
            "showbackground": true,
            "ticks": "",
            "zerolinecolor": "white"
           }
          },
          "shapedefaults": {
           "line": {
            "color": "#2a3f5f"
           }
          },
          "ternary": {
           "aaxis": {
            "gridcolor": "white",
            "linecolor": "white",
            "ticks": ""
           },
           "baxis": {
            "gridcolor": "white",
            "linecolor": "white",
            "ticks": ""
           },
           "bgcolor": "#E5ECF6",
           "caxis": {
            "gridcolor": "white",
            "linecolor": "white",
            "ticks": ""
           }
          },
          "title": {
           "x": 0.05
          },
          "xaxis": {
           "automargin": true,
           "gridcolor": "white",
           "linecolor": "white",
           "ticks": "",
           "title": {
            "standoff": 15
           },
           "zerolinecolor": "white",
           "zerolinewidth": 2
          },
          "yaxis": {
           "automargin": true,
           "gridcolor": "white",
           "linecolor": "white",
           "ticks": "",
           "title": {
            "standoff": 15
           },
           "zerolinecolor": "white",
           "zerolinewidth": 2
          }
         }
        },
        "xaxis": {
         "anchor": "y",
         "domain": [
          0,
          1
         ],
         "title": {
          "text": "PC1"
         }
        },
        "yaxis": {
         "anchor": "x",
         "domain": [
          0,
          1
         ],
         "title": {
          "text": "PC2"
         }
        }
       }
      }
     },
     "metadata": {},
     "output_type": "display_data"
    }
   ],
   "source": [
    "fig = px.scatter(scores, x='PC1', y='PC2', color=labels, symbol=kmeanslabels)\n",
    "fig.update_traces(mode='markers', marker_line_width =1, marker_size=8)\n",
    "fig.show()"
   ]
  },
  {
   "cell_type": "code",
   "execution_count": 8,
   "id": "cb0fda",
   "metadata": {
    "collapsed": false
   },
   "outputs": [
    {
     "name": "stdout",
     "output_type": "stream",
     "text": [
      "Labels    32 ICM  32 TE  64 EPI  64 PE  64 TE\n",
      "Clusters                                     \n",
      "0              3     56       0      0      5\n",
      "1             38      4       1      0      0\n",
      "2              7      0       0     44      0\n",
      "3              0      0      18      0      0\n",
      "4              1      0       0      0     91\n"
     ]
    }
   ],
   "source": [
    "df = pd.DataFrame({'Labels':labels,'Clusters':kmeanslabels})\n",
    "ct = pd.crosstab(df['Clusters'],df['Labels'])\n",
    "print(ct)"
   ]
  },
  {
   "cell_type": "code",
   "execution_count": 9,
   "id": "7d183a",
   "metadata": {
    "collapsed": false
   },
   "outputs": [
    {
     "name": "stdout",
     "output_type": "stream",
     "text": [
      "0.8311719269748188\n"
     ]
    }
   ],
   "source": [
    "kmeansARI = adjusted_rand_score(kmeanslabels, labels)\n",
    "print(kmeansARI)"
   ]
  },
  {
   "cell_type": "code",
   "execution_count": 10,
   "id": "2ab58f",
   "metadata": {
    "collapsed": false
   },
   "outputs": [],
   "source": [
    "from scipy.cluster.hierarchy import linkage\n",
    "np.set_printoptions(precision=5, suppress=True)\n",
    "%matplotlib inline"
   ]
  },
  {
   "cell_type": "code",
   "execution_count": 11,
   "id": "78cf8d",
   "metadata": {
    "collapsed": false
   },
   "outputs": [
    {
     "name": "stdout",
     "output_type": "stream",
     "text": [
      "Shape (268, 48)\n",
      "[[178.      179.        2.24205   2.     ]\n",
      " [130.      140.        2.4239    2.     ]\n",
      " [148.      157.        2.54753   2.     ]\n",
      " ...\n",
      " [528.      530.       28.0905  156.     ]\n",
      " [529.      531.       43.58488 112.     ]\n",
      " [532.      533.      102.11177 268.     ]]\n"
     ]
    }
   ],
   "source": [
    "X = data.values\n",
    "print('Shape', X.shape)\n",
    "z = linkage(X,method='ward',metric='euclidean')\n",
    "print(z)"
   ]
  },
  {
   "cell_type": "code",
   "execution_count": 12,
   "id": "2159ee",
   "metadata": {
    "collapsed": false
   },
   "outputs": [
    {
     "data": {
      "text/plain": [
       "array([[178.     , 179.     ,   2.24205,   2.     ],\n",
       "       [130.     , 140.     ,   2.4239 ,   2.     ],\n",
       "       [148.     , 157.     ,   2.54753,   2.     ],\n",
       "       [177.     , 180.     ,   2.69111,   2.     ],\n",
       "       [147.     , 149.     ,   2.75095,   2.     ]])"
      ]
     },
     "execution_count": 12,
     "metadata": {},
     "output_type": "execute_result"
    }
   ],
   "source": [
    "z[0:5,:]"
   ]
  },
  {
   "cell_type": "code",
   "execution_count": 13,
   "id": "eb82e8",
   "metadata": {
    "collapsed": false
   },
   "outputs": [
    {
     "data": {
      "text/plain": [
       "array([532.     , 533.     , 102.11177, 268.     ])"
      ]
     },
     "execution_count": 13,
     "metadata": {},
     "output_type": "execute_result"
    }
   ],
   "source": [
    "z[266,:]"
   ]
  },
  {
   "cell_type": "code",
   "execution_count": 14,
   "id": "19a92c",
   "metadata": {
    "collapsed": false
   },
   "outputs": [
    {
     "data": {
      "image/png": "[encoded data removed]",
      "text/plain": [
       "<Figure size 2500x1000 with 1 Axes>"
      ]
     },
     "metadata": {},
     "output_type": "display_data"
    }
   ],
   "source": [
    "clusterlabels = clustering.Dendogram(data, method='ward', metric='euclidean', distanceThreshold=0.2)"
   ]
  },
  {
   "cell_type": "code",
   "execution_count": 15,
   "id": "342f7d",
   "metadata": {
    "collapsed": false
   },
   "outputs": [
    {
     "data": {
      "application/vnd.plotly.v1+json": {
       "config": {
        "plotlyServerURL": "https://plot.ly"
       },
       "data": [
        {
         "hovertemplate": "index=32 TE<br>symbol=0<br>PC1=%{x}<br>PC2=%{y}<extra></extra>",
         "legendgroup": "32 TE, 0",
         "marker": {
          "color": "#636efa",
          "line": {
           "width": 1
          },
          "size": 8,
          "symbol": "circle"
         },
         "mode": "markers",
         "name": "32 TE, 0",
         "orientation": "v",
         "showlegend": true,
         "type": "scatter",
         "x": {
          "bdata": "5lJYkHpL3z/5vN7OD4fjP6qnpJIS6OQ/7ymWGrs/2D+0AEi/QW/bP2CwpX3c1t4/19YwBX5n2z96c0DSlOjYP7K63yN/yMk/lwhgCBiW1D9aOS3/CzLOP/+8/5kuy66/2EbV7hflyT9SqKxu+83cPwBTjfEGudc/6RSQhkf20T/PLuO8rMPbP30wLtNIuts/NDVLvxsa3T/Uu8FkOurVP2j9Rz4tSdc/p/rlJWRE0T9NeNuTNdfdP7T+KtS4nNQ/zQ/oxbp00T+2OYQZDM3WP9iQvFTIkNc/tB6a31NN4T9qN0o2Bx7YP0+lA9ks/tw/qRVBQD/s2D8N0TQ45P7NP+jX3NN1xtI/MvgGNgAz3D+c1bWwIfvbPxqN1jKbito/plo09c0u0T+cfYWYP1LXP4ahg8tsx8k/1UznXkknyT9F/BUYLYfXPw4ru3eGttc/Fk/jG9eV1z818gU04u3FPyl6jP4cxeA/xYjBn2Y30T+FoVOu5NfbP9up9TrnPtY/ee+Rlm9R4z8NGAchQcjTP9WGoZ3Tvsg/yN/zVRFU3j+EFZ/1s6XgP0FcWildHNs/",
          "dtype": "f8"
         },
         "xaxis": "x",
         "y": {
          "bdata": "Hf4YQeK+hL+nMHro0Y6Wv3yBlgTse7G/dF2tTp68sL+RlzyW+fu0vx9PpJZL6rO/5kuor10stj+ZfKGB3lydv5HLrEUFpKq/LcCOWRrKur+2hTpG+y7Dv5GuHPtbk82/thYgcC98ur+PxuhisaOiP4L3wNddIMC/tmU+j3WAXr8rX5ZqO3e7P7hivYHfV7C/n9ZYQIwghb//GM7zK25kP7Uu4HB+/Ks/fHOomnkWqL8+c2Qy2sulvzw3V3qrCLa/ESFiLvczmT8o8aVrHWKvv8NYwHFgLrO/Mh0J7nLHyb+muxxp5mNtPw+rgNG2paE/imHVwNAIsz8jFziLcHC2v1h/HMq4sNW/5QDJanwzqb/q9OffK2SVvyE0mPzJHYa/mZasJ93HzL+qkqnwGnuyv/qBA78B0c2/OwV+lWdyyb+X+L0wR2i8v6pVpGsAurG/+uuBcLLrw7+xpMJNJ0+wv2WltTx9FWm/wJ47/3kujb+94f0+iWqHP4XnLLddur6/AZeM5dK1nb80DyovRXmuv1oSClV4yqy/22cF9ey/nz/VLHIS1HmyP8xzFTCc+a6/",
          "dtype": "f8"
         },
         "yaxis": "y"
        },
        {
         "hovertemplate": "index=32 TE<br>symbol=1<br>PC1=%{x}<br>PC2=%{y}<extra></extra>",
         "legendgroup": "32 TE, 1",
         "marker": {
          "color": "#636efa",
          "line": {
           "width": 1
          },
          "size": 8,
          "symbol": "diamond"
         },
         "mode": "markers",
         "name": "32 TE, 1",
         "orientation": "v",
         "showlegend": true,
         "type": "scatter",
         "x": {
          "bdata": "T866uNE+4j/bhbTwLlHdPw==",
          "dtype": "f8"
         },
         "xaxis": "x",
         "y": {
          "bdata": "v6RBiKfjfT9pvJOP+wKtPw==",
          "dtype": "f8"
         },
         "yaxis": "y"
        },
        {
         "hovertemplate": "index=32 TE<br>symbol=2<br>PC1=%{x}<br>PC2=%{y}<extra></extra>",
         "legendgroup": "32 TE, 2",
         "marker": {
          "color": "#636efa",
          "line": {
           "width": 1
          },
          "size": 8,
          "symbol": "square"
         },
         "mode": "markers",
         "name": "32 TE, 2",
         "orientation": "v",
         "showlegend": true,
         "type": "scatter",
         "x": {
          "bdata": "IuViGQCd4b8tapu9BNriv6oIkczE7uG/yqijPL1h4r8=",
          "dtype": "f8"
         },
         "xaxis": "x",
         "y": {
          "bdata": "AG8n7K823r/a55bmyk3Ev753WMC6i8S/XscQ+uHr2r8=",
          "dtype": "f8"
         },
         "yaxis": "y"
        },
        {
         "hovertemplate": "index=32 ICM<br>symbol=0<br>PC1=%{x}<br>PC2=%{y}<extra></extra>",
         "legendgroup": "32 ICM, 0",
         "marker": {
          "color": "#EF553B",
          "line": {
           "width": 1
          },
          "size": 8,
          "symbol": "circle"
         },
         "mode": "markers",
         "name": "32 ICM, 0",
         "orientation": "v",
         "showlegend": true,
         "type": "scatter",
         "x": {
          "bdata": "YIaTRDuq3z/CZtceKaTWP5o6ksP28a2/",
          "dtype": "f8"
         },
         "xaxis": "x",
         "y": {
          "bdata": "r1Sxpp4FrT/RMyof7vmGv6xbriHlgra/",
          "dtype": "f8"
         },
         "yaxis": "y"
        },
        {
         "hovertemplate": "index=32 ICM<br>symbol=1<br>PC1=%{x}<br>PC2=%{y}<extra></extra>",
         "legendgroup": "32 ICM, 1",
         "marker": {
          "color": "#EF553B",
          "line": {
           "width": 1
          },
          "size": 8,
          "symbol": "diamond"
         },
         "mode": "markers",
         "name": "32 ICM, 1",
         "orientation": "v",
         "showlegend": true,
         "type": "scatter",
         "x": {
          "bdata": "JwBLQYsg4T8=",
          "dtype": "f8"
         },
         "xaxis": "x",
         "y": {
          "bdata": "Fn5ZzLars78=",
          "dtype": "f8"
         },
         "yaxis": "y"
        },
        {
         "hovertemplate": "index=32 ICM<br>symbol=2<br>PC1=%{x}<br>PC2=%{y}<extra></extra>",
         "legendgroup": "32 ICM, 2",
         "marker": {
          "color": "#EF553B",
          "line": {
           "width": 1
          },
          "size": 8,
          "symbol": "square"
         },
         "mode": "markers",
         "name": "32 ICM, 2",
         "orientation": "v",
         "showlegend": true,
         "type": "scatter",
         "x": {
          "bdata": "AlkZ7hFk67/3j38VlFTmv/zXTI7kaOm/u7e4BEqX6b8YlCJq/QHrv3noMxNICuW/taSGDfWl47+jZxQ6X7Hmvxjkf21Vwuq/q7rQ3Ent4r892NmC1Lfgv+8Ch/rrfOe/JqujW8245b9OQRflj8/gv7yLbwhBIee/O/dQpPSO6b8qdJ2WOCnjv8wbLNFV6ea/79hpB9BI5r+96DTRWgPov473UcDxW+i/I4oEiVT15r/k9yhoYf7nvwk/n8mNH+O/W9jT++xK6b8wysI3luXmv8+gV4Msd+m/WVIuwgkb7b8Eow/qburmv5B7Q2qkAOC/N0pUf0j70r+3J9+//zXsvwkWINaufOK/BCdJ9Fld5r9IEFDKsJrovxN7IRS74OS/zmx4mnEf378=",
          "dtype": "f8"
         },
         "xaxis": "x",
         "y": {
          "bdata": "cZX7MKz5yL9/B6Ko4dvhv4Q02lRg1sG/YyiWBL0a3L9nJjTjQW7Kv8COSwLnV8+/P2DA4cg6379jpZZmkauvv8Po17rtYci/OP7H94JY1L/1CPc9CQTRv+xrT4vrJsK/6L9OBllhyr8yMu11+ObGv5ah6LJAet+/KUEp1S7Awr8EXPHMzC6xv6ObbTbqHdq/ARRPYo7Z3L99tM5AZx7Lv1o6EZ4+ysu/Z7hA2YCX3L9AO/OUfc3hv/A50CTI5tC/s01DeW4h0L9BbG+Z+9rPv2xjueOUHcC/MbFKeOzb2L+lTnBZO3ndvyswqZhBGsG/7j0YP/an2r+D5hhUEejRv1mhZPWug5G/kD7OKwAj4L+MTcPsZF/avyfY3YV489S/Tn/3wTqp1L8=",
          "dtype": "f8"
         },
         "yaxis": "y"
        },
        {
         "hovertemplate": "index=32 ICM<br>symbol=3<br>PC1=%{x}<br>PC2=%{y}<extra></extra>",
         "legendgroup": "32 ICM, 3",
         "marker": {
          "color": "#EF553B",
          "line": {
           "width": 1
          },
          "size": 8,
          "symbol": "x"
         },
         "mode": "markers",
         "name": "32 ICM, 3",
         "orientation": "v",
         "showlegend": true,
         "type": "scatter",
         "x": {
          "bdata": "Fgkc2xCF5r/GKvxWucLnv0kjX8LyMuK/CscUtqS+57+T9LcgyGjpv5of34w7Sei/15nn5QMK579H4tGtnlnlvw==",
          "dtype": "f8"
         },
         "xaxis": "x",
         "y": {
          "bdata": "6am/60Oseb/fmmIGCjHZP/k2+ddIe8o/HLQzZVgYyj/VCeTxs/rBPzsvZexCFNI/XFQ5ywhsyD+/KjJSzHXPPw==",
          "dtype": "f8"
         },
         "yaxis": "y"
        },
        {
         "hovertemplate": "index=64 TE<br>symbol=0<br>PC1=%{x}<br>PC2=%{y}<extra></extra>",
         "legendgroup": "64 TE, 0",
         "marker": {
          "color": "#00cc96",
          "line": {
           "width": 1
          },
          "size": 8,
          "symbol": "circle"
         },
         "mode": "markers",
         "name": "64 TE, 0",
         "orientation": "v",
         "showlegend": true,
         "type": "scatter",
         "x": {
          "bdata": "BuADY40P4T+OyeZAeuDhPzK5R9Kljdo/tX5AF0DU4j+6znVWTnfVPz+AWOYS8dY/MdPwrVnL0z/juCZo/PfjPw==",
          "dtype": "f8"
         },
         "xaxis": "x",
         "y": {
          "bdata": "hP6HWxF/sL/4U0kPtVevv+EmbrTwZKe/r4f3FHmDoz+m0gPGvUuHv/InLwHWys2/ndyeGQaqzr/NBKntX4qavw==",
          "dtype": "f8"
         },
         "yaxis": "y"
        },
        {
         "hovertemplate": "index=64 TE<br>symbol=1<br>PC1=%{x}<br>PC2=%{y}<extra></extra>",
         "legendgroup": "64 TE, 1",
         "marker": {
          "color": "#00cc96",
          "line": {
           "width": 1
          },
          "size": 8,
          "symbol": "diamond"
         },
         "mode": "markers",
         "name": "64 TE, 1",
         "orientation": "v",
         "showlegend": true,
         "type": "scatter",
         "x": {
          "bdata": "zdOxvhxv5T/uBqde+nPhP30+xh3pjt8/sX3CscvY3z9JTRbzCZ7lPyRWn872tOA/u37DkqB54T8a02x+1nThPwMNE4kKtN8/trbpi2zW4T8X+dKiVIXmP+XMzlmlEek/BNbO7Pz/4T+qtD6ILbXdP+d07U3gHeY/Dh8z+EKA6D8lgMaXXrXkP1IcnUS5YeE/booPklSP6z/TI4rJuejnP4bbOrj/5+U/ZiJruvzH5j9T+0/NAb/jP8cYVvAvidU/XHM7M5Yw1z++L6MNeljoP6d4GNnX9eY/b66xKUKF6T8fNRgjz13rP26IEYYmFeg/39yiaHru4T+IaBQ4PhzbP/oJ9UFHcec/+UQEGYwW6T9svO4nAMTjP9Joe+9WnuY/O31qfDV+4j/+fAOS2e3jP7TQPewC1Ow/SntDCHVK5z+KiM5YVHzkP/zV6cFNM+Y/NbyXh+qK4z9KThqP1ufkP98zf2fo+uc/elTPqUdY4T9DpycY3CfePzghpctuVOA/hzJSR4Fr4j/1Yf7gNfDcP0uWOWwKOuE/ME2Nw8yB3z+Pf6KWD7zhP0Sm8dZ8mN0//bu5ij8b4T+DvbI2syLlP5NbiwHZCeQ/sAPsi7t42j9Xvdam6nzXP90lSpQjGdc/cIt3vHPd4T8kkb4yaLLnP6FMi1WZcOQ/EE/jRVKw4j+lW+9zH4rhP8TL14CQ698/kL8jC9c31z8WYsNw+9jdP7ETUsn24OA/drZDciSw5z+yrwnkhRbkP+bAjbw5SN8/tLNr5sjG5T9B/61b8L7mP7HP6MKo2OQ/h73HZHp/3z9gE5OcmEHhP49RNs0hUuE/BxfN7Y0q4j+82hKMOnnnPz77amHkZuM/yMeUmsCx4z82d2Gy7g3IP9QcoQXOZLo/3nlq/YAT4j9A65QNhe3hP3YVrxXBIeM/uusd1YxD4T8=",
          "dtype": "f8"
         },
         "xaxis": "x",
         "y": {
          "bdata": "+4y039sooT+xBvzuM1CmP0X+o/CpzKw/MHLFdbWavj/TTQmLvh6qvxu/y+b11qM/6EdqAkbJtD/ZINs3PIigP5lhtMR3v7a/MgII0yaJwz/ptkVvH2Viv+vJg8A1AlY/x+bBXP30mj9VowuaweDBP72SK0ECtqm/Ag/TfWk2uL+EN+0tiGiuP6+CpkaAxsa/U69hT+3cpD9u7uNDhBiBP6NiG6dpPKW/nPlX+s1ouT81WB2yD428vzvl35/5Oo+/WX4v83aUpj/Wno9mPpZ4P1WqUvj8Zbg/ybnVt3duoT+MIsCWJayzP6ZvfgwEscM/yRP1cR/puD+0lVo9wHCRP/FxXJtlbqE/yuJOWWUOWr9D6r+fMluiP3wvBzxyT7E/njbDFLRBoj80HeMDxXGnvykj+LYv6cG/hvJvO2lvtD+eCfoyXT6JP0XW9PNVlZS/cMYLtBR+pr9cY2OatRKyPw8r0mD5XZS/4Yd/YoDbl7/OxD/149OuPzcb7IovFLa/3vVRHs3bs7/aDwYRUQCDv9KQPhOQK5e/lNmehZJ0er8Z/f2OF4GlP+WIJBCKCJq/Aw0fBIKhpb+wvemzht5Yv7wTW7P7z5S/ut2x13ByqD9fgZXssJ/LPyi9rvv3mI8/qa69B8T2xz/En4cI1jarv7WfLo5ZNpa/9VIz++b8wj8jahE/yt3APzTmoEVVV6Y/ffdPbQgmo7+QZDuwby2VP0wuXpxAL7I/zprOMJwxUD/X+RzTmqNPP96RJME7CZs/0XAUghzWob96M1ANMu6aP97RqrontKe/Q7SrUUa4sz+DInLz/VCqP7LtPo0d1bQ/iBVJB8dKx79WdsCWFfSjP3U+8ywCVaA/xh72OfozwL+JV6BgVbnFP/W5kU7K38G/lWF6LqDGtj/ouV3cNqF6P13HkxaEgLA/NlEbzqjLtj8=",
          "dtype": "f8"
         },
         "yaxis": "y"
        },
        {
         "hovertemplate": "index=64 EPI<br>symbol=2<br>PC1=%{x}<br>PC2=%{y}<extra></extra>",
         "legendgroup": "64 EPI, 2",
         "marker": {
          "color": "#ab63fa",
          "line": {
           "width": 1
          },
          "size": 8,
          "symbol": "square"
         },
         "mode": "markers",
         "name": "64 EPI, 2",
         "orientation": "v",
         "showlegend": true,
         "type": "scatter",
         "x": {
          "bdata": "Zr3fRb1Y578=",
          "dtype": "f8"
         },
         "xaxis": "x",
         "y": {
          "bdata": "x4+bdlOLxL8=",
          "dtype": "f8"
         },
         "yaxis": "y"
        },
        {
         "hovertemplate": "index=64 EPI<br>symbol=4<br>PC1=%{x}<br>PC2=%{y}<extra></extra>",
         "legendgroup": "64 EPI, 4",
         "marker": {
          "color": "#ab63fa",
          "line": {
           "width": 1
          },
          "size": 8,
          "symbol": "cross"
         },
         "mode": "markers",
         "name": "64 EPI, 4",
         "orientation": "v",
         "showlegend": true,
         "type": "scatter",
         "x": {
          "bdata": "b2ME1rGY5b8ZQajOTTblvw0116GSM+i/EitCrsU66r+BAUrSs/XnvwAAAAAAAPC/qcb/rSId7L+0fwIwLXTvvxDE6kSUve6/dKBEjgrw5r/SEq8oRIvpv03/T/UCOei/wfRTGBN77L9Dqj7sUiLuv9n2KItEh+a/1PIDpGAW5784aoTfFPrqv7T/NvBVp+y/",
          "dtype": "f8"
         },
         "xaxis": "x",
         "y": {
          "bdata": "Nn0lJAx147+UeMskBKbmvwa/+1w1WN2/v2S9fLJ74r+OznGQ7ofhvwOpTfKlpNu/vwIP/zyV27+yjGkzyp3fv5jvTWG+39i/pb2ztSJz4r/iSB5mbpTjvzm0hV3ND+W/45MV4A1C5b8yqtS/y3Xhv1bNdqnwVOe/f5M0lKFu3r8P0gOGojPgvyRQMDX6AbW/",
          "dtype": "f8"
         },
         "yaxis": "y"
        },
        {
         "hovertemplate": "index=64 PE<br>symbol=3<br>PC1=%{x}<br>PC2=%{y}<extra></extra>",
         "legendgroup": "64 PE, 3",
         "marker": {
          "color": "#FFA15A",
          "line": {
           "width": 1
          },
          "size": 8,
          "symbol": "x"
         },
         "mode": "markers",
         "name": "64 PE, 3",
         "orientation": "v",
         "showlegend": true,
         "type": "scatter",
         "x": {
          "bdata": "ehq7DzDB4b/CteJ+4qPfvxKgKyXUjOS/x6znsg5s5L/qZiV/KS/kv2YjLoPMG+K/HxNPXCR65b85oTpe4q7lv0KjYjfIguW//7XcepUt4b/7FJsqhA7dv9A9p6cPpuW/3ZvEPUya4r+HDdlYbs7kvxJmNGNTdOC/As6Ye4fw3r/G7DblARbev5HHMxJ8XOO/La3aZj575b/Zfr3Ddwzpv9zVUmA6lOm/xi36iwGc6787WOrPJs3mv6Qrf+/X9Om/idk55Z5F578/JxQVeb/kv3DSyagoauG/MC6/hYaO6b9EP7kcf9Hkv/ICZym7Pea/leB2z14t5r/sZm2vsyPmv8H8j6uguOe/ffzHOTIh5L9gpQsBpZPkvz77kZth2+m/2TrZLEtc6L+Vbl2i1JDgv4S4h+Ya+OW//A5Yf4u+6b/SUumrJcPkv/a+AQLHwOC/lOtU6u8S6b/pjfynl/Hivw==",
          "dtype": "f8"
         },
         "xaxis": "x",
         "y": {
          "bdata": "QZAwCmMu4z/BwEFe4UXlP9GEahisaeI/+3Qnz15o4T/piIX5W5zhP/gWk+nUOt8/xds5cm8d1T/uPQ51IdXMP+LBmrYJSts/max+p9ch3D9nan9s98PKPy/Bg4SvPNc/2F3quV0/4D/F/QTn47XbP074QZZwftE/rsZACxJH2D8QVkueEgHZP0GyNxfBbeE/Yy/loZNB5T+ZwU9yuMXUP8ElGyJ6DNA/uyTYpnV+2D8yOdFDyEbfP03dgRA0T9I/eKOlKEvX4D+F7uesmYHdP5eIL9XjheY/YfOUcTgL4D+DYevcoVjoP9fWWD2ODOc/JXgkWkoT4j8Q3JO/iXThP7qjcDvbuuY/cJ3Swq3w4z+wi1reHETjPwSGI7PeguM/6KXQywu04D++fmPDhTXUPzXkvDESWeg/yMjmcXjF4z/dIAKErpzhPxGpjYmFLeM/fG4Cn0zi4T/89VivnW7iPw==",
          "dtype": "f8"
         },
         "yaxis": "y"
        }
       ],
       "layout": {
        "legend": {
         "title": {
          "text": "index, symbol"
         },
         "tracegroupgap": 0
        },
        "margin": {
         "t": 60
        },
        "template": {
         "data": {
          "bar": [
           {
            "error_x": {
             "color": "#2a3f5f"
            },
            "error_y": {
             "color": "#2a3f5f"
            },
            "marker": {
             "line": {
              "color": "#E5ECF6",
              "width": 0.5
             },
             "pattern": {
              "fillmode": "overlay",
              "size": 10,
              "solidity": 0.2
             }
            },
            "type": "bar"
           }
          ],
          "barpolar": [
           {
            "marker": {
             "line": {
              "color": "#E5ECF6",
              "width": 0.5
             },
             "pattern": {
              "fillmode": "overlay",
              "size": 10,
              "solidity": 0.2
             }
            },
            "type": "barpolar"
           }
          ],
          "carpet": [
           {
            "aaxis": {
             "endlinecolor": "#2a3f5f",
             "gridcolor": "white",
             "linecolor": "white",
             "minorgridcolor": "white",
             "startlinecolor": "#2a3f5f"
            },
            "baxis": {
             "endlinecolor": "#2a3f5f",
             "gridcolor": "white",
             "linecolor": "white",
             "minorgridcolor": "white",
             "startlinecolor": "#2a3f5f"
            },
            "type": "carpet"
           }
          ],
          "choropleth": [
           {
            "colorbar": {
             "outlinewidth": 0,
             "ticks": ""
            },
            "type": "choropleth"
           }
          ],
          "contour": [
           {
            "colorbar": {
             "outlinewidth": 0,
             "ticks": ""
            },
            "colorscale": [
             [
              0,
              "#0d0887"
             ],
             [
              0.1111111111111111,
              "#46039f"
             ],
             [
              0.2222222222222222,
              "#7201a8"
             ],
             [
              0.3333333333333333,
              "#9c179e"
             ],
             [
              0.4444444444444444,
              "#bd3786"
             ],
             [
              0.5555555555555556,
              "#d8576b"
             ],
             [
              0.6666666666666666,
              "#ed7953"
             ],
             [
              0.7777777777777778,
              "#fb9f3a"
             ],
             [
              0.8888888888888888,
              "#fdca26"
             ],
             [
              1,
              "#f0f921"
             ]
            ],
            "type": "contour"
           }
          ],
          "contourcarpet": [
           {
            "colorbar": {
             "outlinewidth": 0,
             "ticks": ""
            },
            "type": "contourcarpet"
           }
          ],
          "heatmap": [
           {
            "colorbar": {
             "outlinewidth": 0,
             "ticks": ""
            },
            "colorscale": [
             [
              0,
              "#0d0887"
             ],
             [
              0.1111111111111111,
              "#46039f"
             ],
             [
              0.2222222222222222,
              "#7201a8"
             ],
             [
              0.3333333333333333,
              "#9c179e"
             ],
             [
              0.4444444444444444,
              "#bd3786"
             ],
             [
              0.5555555555555556,
              "#d8576b"
             ],
             [
              0.6666666666666666,
              "#ed7953"
             ],
             [
              0.7777777777777778,
              "#fb9f3a"
             ],
             [
              0.8888888888888888,
              "#fdca26"
             ],
             [
              1,
              "#f0f921"
             ]
            ],
            "type": "heatmap"
           }
          ],
          "histogram": [
           {
            "marker": {
             "pattern": {
              "fillmode": "overlay",
              "size": 10,
              "solidity": 0.2
             }
            },
            "type": "histogram"
           }
          ],
          "histogram2d": [
           {
            "colorbar": {
             "outlinewidth": 0,
             "ticks": ""
            },
            "colorscale": [
             [
              0,
              "#0d0887"
             ],
             [
              0.1111111111111111,
              "#46039f"
             ],
             [
              0.2222222222222222,
              "#7201a8"
             ],
             [
              0.3333333333333333,
              "#9c179e"
             ],
             [
              0.4444444444444444,
              "#bd3786"
             ],
             [
              0.5555555555555556,
              "#d8576b"
             ],
             [
              0.6666666666666666,
              "#ed7953"
             ],
             [
              0.7777777777777778,
              "#fb9f3a"
             ],
             [
              0.8888888888888888,
              "#fdca26"
             ],
             [
              1,
              "#f0f921"
             ]
            ],
            "type": "histogram2d"
           }
          ],
          "histogram2dcontour": [
           {
            "colorbar": {
             "outlinewidth": 0,
             "ticks": ""
            },
            "colorscale": [
             [
              0,
              "#0d0887"
             ],
             [
              0.1111111111111111,
              "#46039f"
             ],
             [
              0.2222222222222222,
              "#7201a8"
             ],
             [
              0.3333333333333333,
              "#9c179e"
             ],
             [
              0.4444444444444444,
              "#bd3786"
             ],
             [
              0.5555555555555556,
              "#d8576b"
             ],
             [
              0.6666666666666666,
              "#ed7953"
             ],
             [
              0.7777777777777778,
              "#fb9f3a"
             ],
             [
              0.8888888888888888,
              "#fdca26"
             ],
             [
              1,
              "#f0f921"
             ]
            ],
            "type": "histogram2dcontour"
           }
          ],
          "mesh3d": [
           {
            "colorbar": {
             "outlinewidth": 0,
             "ticks": ""
            },
            "type": "mesh3d"
           }
          ],
          "parcoords": [
           {
            "line": {
             "colorbar": {
              "outlinewidth": 0,
              "ticks": ""
             }
            },
            "type": "parcoords"
           }
          ],
          "pie": [
           {
            "automargin": true,
            "type": "pie"
           }
          ],
          "scatter": [
           {
            "fillpattern": {
             "fillmode": "overlay",
             "size": 10,
             "solidity": 0.2
            },
            "type": "scatter"
           }
          ],
          "scatter3d": [
           {
            "line": {
             "colorbar": {
              "outlinewidth": 0,
              "ticks": ""
             }
            },
            "marker": {
             "colorbar": {
              "outlinewidth": 0,
              "ticks": ""
             }
            },
            "type": "scatter3d"
           }
          ],
          "scattercarpet": [
           {
            "marker": {
             "colorbar": {
              "outlinewidth": 0,
              "ticks": ""
             }
            },
            "type": "scattercarpet"
           }
          ],
          "scattergeo": [
           {
            "marker": {
             "colorbar": {
              "outlinewidth": 0,
              "ticks": ""
             }
            },
            "type": "scattergeo"
           }
          ],
          "scattergl": [
           {
            "marker": {
             "colorbar": {
              "outlinewidth": 0,
              "ticks": ""
             }
            },
            "type": "scattergl"
           }
          ],
          "scattermap": [
           {
            "marker": {
             "colorbar": {
              "outlinewidth": 0,
              "ticks": ""
             }
            },
            "type": "scattermap"
           }
          ],
          "scattermapbox": [
           {
            "marker": {
             "colorbar": {
              "outlinewidth": 0,
              "ticks": ""
             }
            },
            "type": "scattermapbox"
           }
          ],
          "scatterpolar": [
           {
            "marker": {
             "colorbar": {
              "outlinewidth": 0,
              "ticks": ""
             }
            },
            "type": "scatterpolar"
           }
          ],
          "scatterpolargl": [
           {
            "marker": {
             "colorbar": {
              "outlinewidth": 0,
              "ticks": ""
             }
            },
            "type": "scatterpolargl"
           }
          ],
          "scatterternary": [
           {
            "marker": {
             "colorbar": {
              "outlinewidth": 0,
              "ticks": ""
             }
            },
            "type": "scatterternary"
           }
          ],
          "surface": [
           {
            "colorbar": {
             "outlinewidth": 0,
             "ticks": ""
            },
            "colorscale": [
             [
              0,
              "#0d0887"
             ],
             [
              0.1111111111111111,
              "#46039f"
             ],
             [
              0.2222222222222222,
              "#7201a8"
             ],
             [
              0.3333333333333333,
              "#9c179e"
             ],
             [
              0.4444444444444444,
              "#bd3786"
             ],
             [
              0.5555555555555556,
              "#d8576b"
             ],
             [
              0.6666666666666666,
              "#ed7953"
             ],
             [
              0.7777777777777778,
              "#fb9f3a"
             ],
             [
              0.8888888888888888,
              "#fdca26"
             ],
             [
              1,
              "#f0f921"
             ]
            ],
            "type": "surface"
           }
          ],
          "table": [
           {
            "cells": {
             "fill": {
              "color": "#EBF0F8"
             },
             "line": {
              "color": "white"
             }
            },
            "header": {
             "fill": {
              "color": "#C8D4E3"
             },
             "line": {
              "color": "white"
             }
            },
            "type": "table"
           }
          ]
         },
         "layout": {
          "annotationdefaults": {
           "arrowcolor": "#2a3f5f",
           "arrowhead": 0,
           "arrowwidth": 1
          },
          "autotypenumbers": "strict",
          "coloraxis": {
           "colorbar": {
            "outlinewidth": 0,
            "ticks": ""
           }
          },
          "colorscale": {
           "diverging": [
            [
             0,
             "#8e0152"
            ],
            [
             0.1,
             "#c51b7d"
            ],
            [
             0.2,
             "#de77ae"
            ],
            [
             0.3,
             "#f1b6da"
            ],
            [
             0.4,
             "#fde0ef"
            ],
            [
             0.5,
             "#f7f7f7"
            ],
            [
             0.6,
             "#e6f5d0"
            ],
            [
             0.7,
             "#b8e186"
            ],
            [
             0.8,
             "#7fbc41"
            ],
            [
             0.9,
             "#4d9221"
            ],
            [
             1,
             "#276419"
            ]
           ],
           "sequential": [
            [
             0,
             "#0d0887"
            ],
            [
             0.1111111111111111,
             "#46039f"
            ],
            [
             0.2222222222222222,
             "#7201a8"
            ],
            [
             0.3333333333333333,
             "#9c179e"
            ],
            [
             0.4444444444444444,
             "#bd3786"
            ],
            [
             0.5555555555555556,
             "#d8576b"
            ],
            [
             0.6666666666666666,
             "#ed7953"
            ],
            [
             0.7777777777777778,
             "#fb9f3a"
            ],
            [
             0.8888888888888888,
             "#fdca26"
            ],
            [
             1,
             "#f0f921"
            ]
           ],
           "sequentialminus": [
            [
             0,
             "#0d0887"
            ],
            [
             0.1111111111111111,
             "#46039f"
            ],
            [
             0.2222222222222222,
             "#7201a8"
            ],
            [
             0.3333333333333333,
             "#9c179e"
            ],
            [
             0.4444444444444444,
             "#bd3786"
            ],
            [
             0.5555555555555556,
             "#d8576b"
            ],
            [
             0.6666666666666666,
             "#ed7953"
            ],
            [
             0.7777777777777778,
             "#fb9f3a"
            ],
            [
             0.8888888888888888,
             "#fdca26"
            ],
            [
             1,
             "#f0f921"
            ]
           ]
          },
          "colorway": [
           "#636efa",
           "#EF553B",
           "#00cc96",
           "#ab63fa",
           "#FFA15A",
           "#19d3f3",
           "#FF6692",
           "#B6E880",
           "#FF97FF",
           "#FECB52"
          ],
          "font": {
           "color": "#2a3f5f"
          },
          "geo": {
           "bgcolor": "white",
           "lakecolor": "white",
           "landcolor": "#E5ECF6",
           "showlakes": true,
           "showland": true,
           "subunitcolor": "white"
          },
          "hoverlabel": {
           "align": "left"
          },
          "hovermode": "closest",
          "mapbox": {
           "style": "light"
          },
          "paper_bgcolor": "white",
          "plot_bgcolor": "#E5ECF6",
          "polar": {
           "angularaxis": {
            "gridcolor": "white",
            "linecolor": "white",
            "ticks": ""
           },
           "bgcolor": "#E5ECF6",
           "radialaxis": {
            "gridcolor": "white",
            "linecolor": "white",
            "ticks": ""
           }
          },
          "scene": {
           "xaxis": {
            "backgroundcolor": "#E5ECF6",
            "gridcolor": "white",
            "gridwidth": 2,
            "linecolor": "white",
            "showbackground": true,
            "ticks": "",
            "zerolinecolor": "white"
           },
           "yaxis": {
            "backgroundcolor": "#E5ECF6",
            "gridcolor": "white",
            "gridwidth": 2,
            "linecolor": "white",
            "showbackground": true,
            "ticks": "",
            "zerolinecolor": "white"
           },
           "zaxis": {
            "backgroundcolor": "#E5ECF6",
            "gridcolor": "white",
            "gridwidth": 2,
            "linecolor": "white",
            "showbackground": true,
            "ticks": "",
            "zerolinecolor": "white"
           }
          },
          "shapedefaults": {
           "line": {
            "color": "#2a3f5f"
           }
          },
          "ternary": {
           "aaxis": {
            "gridcolor": "white",
            "linecolor": "white",
            "ticks": ""
           },
           "baxis": {
            "gridcolor": "white",
            "linecolor": "white",
            "ticks": ""
           },
           "bgcolor": "#E5ECF6",
           "caxis": {
            "gridcolor": "white",
            "linecolor": "white",
            "ticks": ""
           }
          },
          "title": {
           "x": 0.05
          },
          "xaxis": {
           "automargin": true,
           "gridcolor": "white",
           "linecolor": "white",
           "ticks": "",
           "title": {
            "standoff": 15
           },
           "zerolinecolor": "white",
           "zerolinewidth": 2
          },
          "yaxis": {
           "automargin": true,
           "gridcolor": "white",
           "linecolor": "white",
           "ticks": "",
           "title": {
            "standoff": 15
           },
           "zerolinecolor": "white",
           "zerolinewidth": 2
          }
         }
        },
        "xaxis": {
         "anchor": "y",
         "domain": [
          0,
          1
         ],
         "title": {
          "text": "PC1"
         }
        },
        "yaxis": {
         "anchor": "x",
         "domain": [
          0,
          1
         ],
         "title": {
          "text": "PC2"
         }
        }
       }
      }
     },
     "metadata": {},
     "output_type": "display_data"
    }
   ],
   "source": [
    "fig = px.scatter(scores, x='PC1',y='PC2',color=labels,symbol=clusterlabels)\n",
    "fig.update_traces(mode='markers',marker_line_width=1, marker_size=8)\n",
    "fig.show()"
   ]
  },
  {
   "cell_type": "code",
   "execution_count": 16,
   "id": "3e89ae",
   "metadata": {
    "collapsed": false
   },
   "outputs": [
    {
     "name": "stdout",
     "output_type": "stream",
     "text": [
      "Labels    32 ICM  32 TE  64 EPI  64 PE  64 TE\n",
      "Clusters                                     \n",
      "0              3     54       0      0      8\n",
      "1              1      2       0      0     88\n",
      "2             37      4       1      0      0\n",
      "3              8      0       0     44      0\n",
      "4              0      0      18      0      0\n"
     ]
    }
   ],
   "source": [
    "df = pd.DataFrame({'Labels':labels,'Clusters':clusterlabels})\n",
    "ct = pd.crosstab(df['Clusters'],df['Labels'])\n",
    "print(ct)"
   ]
  },
  {
   "cell_type": "code",
   "execution_count": 17,
   "id": "17b425",
   "metadata": {
    "collapsed": false
   },
   "outputs": [
    {
     "name": "stdout",
     "output_type": "stream",
     "text": [
      "0.7730469212018003\n"
     ]
    }
   ],
   "source": [
    "HierarchicalARI = adjusted_rand_score(clusterlabels,labels)\n",
    "print(HierarchicalARI)"
   ]
  },
  {
   "cell_type": "markdown",
   "id": "8ee5d7",
   "metadata": {
    "collapsed": false
   },
   "source": [
    "Questions answers:\n",
    "\n",
    "How well do the different algorithms cluster cells into these five cell\\-types?\n",
    "\n",
    "Both algorithms do not cluster the data perfectly but they both are pretty good. Based on the adjusted ARI score Kmeans clustering was better as it got a score of 0.83 whereas hierarchical clustering got a score of 0.77 \n",
    "\n",
    "What happens when you change the linkage method from \"ward\" to \"average\" in the hierarchical clustering algorithm?\n",
    "\n",
    "If you switch to average the hierarchical clustering algorithm becomes a lot worse. It achieves an adjusted rand score of 0.00070 which is bad.\n",
    "\n",
    "How would you assess the performance of these different clustering approaches if you didn't have ground truth labels?\n",
    "\n",
    "We would need to carry out internal validation methods to asses the performance of the clustering. One example of this is a silhouette analysis in which there is a threshold that defines a good cluster and if all clusters score above this threshold then it is successful clustering\n"
   ]
  }
 ],
 "metadata": {
  "anaconda-cloud": {},
  "kernelspec": {
   "argv": [
    "/usr/bin/python3",
    "-m",
    "ipykernel",
    "--HistoryManager.enabled=False",
    "--matplotlib=inline",
    "-c",
    "%config InlineBackend.figure_formats = set(['retina'])\nimport matplotlib; matplotlib.rcParams['figure.figsize'] = (12, 7)",
    "-f",
    "{connection_file}"
   ],
   "display_name": "Python 3 (system-wide)",
   "env": {},
   "language": "python",
   "metadata": {
    "cocalc": {
     "description": "Python 3 programming language",
     "priority": 100,
     "url": "https://www.python.org/"
    }
   },
   "name": "python3",
   "resource_dir": "/ext/jupyter/kernels/python3"
  },
  "language_info": {
   "codemirror_mode": {
    "name": "ipython",
    "version": 3
   },
   "file_extension": ".py",
   "mimetype": "text/x-python",
   "name": "python",
   "nbconvert_exporter": "python",
   "pygments_lexer": "ipython3",
   "version": "3.12.1"
  }
 },
 "nbformat": 4,
 "nbformat_minor": 4
}
